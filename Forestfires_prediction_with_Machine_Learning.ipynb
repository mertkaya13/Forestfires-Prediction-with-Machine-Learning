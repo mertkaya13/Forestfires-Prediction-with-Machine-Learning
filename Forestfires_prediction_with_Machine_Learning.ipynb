{
  "nbformat": 4,
  "nbformat_minor": 0,
  "metadata": {
    "colab": {
      "name": "Forestfires prediction with Machine Learning.ipynb",
      "provenance": [],
      "collapsed_sections": [],
      "authorship_tag": "ABX9TyMpnJmC6DtwiC5daxmmLM2R",
      "include_colab_link": true
    },
    "kernelspec": {
      "name": "python3",
      "display_name": "Python 3"
    }
  },
  "cells": [
    {
      "cell_type": "markdown",
      "metadata": {
        "id": "view-in-github",
        "colab_type": "text"
      },
      "source": [
        "<a href=\"https://colab.research.google.com/github/mertkaya13/Forestfires-Prediction-with-Machine-Learning/blob/master/Forestfires_prediction_with_Machine_Learning.ipynb\" target=\"_parent\"><img src=\"https://colab.research.google.com/assets/colab-badge.svg\" alt=\"Open In Colab\"/></a>"
      ]
    },
    {
      "cell_type": "markdown",
      "metadata": {
        "id": "x6l0xObIDGKt",
        "colab_type": "text"
      },
      "source": [
        "Created by Mert KAYA - Last Update : 17 July 2020\n",
        "\n",
        "This project aims to predict forestfires with the help of Machine Learning by given estimated values of temperature,amount of rain,speed of the wind etc.\n",
        "\n",
        "There are predicters created for various usages.\n",
        "\n",
        "Which would help us predict a forestfire according to the dataset.\n",
        "I have created four different versions by the following steps you can see below.\n",
        "\n",
        "-\n",
        "\n",
        "First predicter uses values that are more common for everday people such as temperature,amount of rain,speed of wind as such and returns the burned area as hectars.\n",
        "These values can be gathered from various websites or other places(eg. Newspapers) because they are predicted daily,weekly,monthly by meteorology companies.This predictor will use different models to predict burned hectars as numbers with regression.4 models are used in this part :\n",
        "Ordinary least squares regression ,lasso linear regression, ridge linear regression ,knn regression.\n",
        "\n",
        "-\n",
        "\n",
        "Before the creation of the second predicter target values are splitted with the help of kmeans algorithm.These centroids values are used to determine the classes and Fuzzying the data.\n",
        "\n",
        "These 5 classes are called : \n",
        "\n",
        "1.   Very low.(Amount of forest burned is very low or zero)\n",
        "2.   Low (Amount of forest burned is low)\n",
        "3.   Medium (Amount of forest burned is medium)\n",
        "4.   High (Amount of forest burned is large)\n",
        "5.   Very High (Amount of forest burned is very large) \n",
        "\n",
        "-\n",
        "\n",
        "Second predicter uses same values which are \n",
        "Month, DayofWeek, Temperature as Celcius, Relative_Humidity,Wind in km/h,amount of rain outside in mm/m^2.\n",
        "\n",
        "Month values are grouped into seasons. UI will recieve month but it will transform it to seasons for northern hemisphere.Then the seasons are transformed into numerical.\n",
        "DayofWeek values are transformed into weekend,weekdays and transformed into numerical 1, 2.\n",
        "\n",
        "-\n",
        "\n",
        "Third predicter uses all of the features except FWI values of the dataset. This predicter can be used to achieve the amount of fire as a category as shown above.It can be used to understand importance of the part that forestfire happens(Middle of the forest may be more flammable than other parts.)\n",
        "\n",
        "-\n",
        "\n",
        "Fourth Predicter uses all of the features.\n",
        "\n",
        "-\n",
        "\n",
        "Classifiers used in these predicters are , KNearest Neighbours , Logistic Regression Classifier, Support Vector Machines, Multi-layer Perceptron classifier , GaussianProcessClassifier\n",
        "\n"
      ]
    },
    {
      "cell_type": "markdown",
      "metadata": {
        "id": "l0L0eY1HFenH",
        "colab_type": "text"
      },
      "source": [
        "First of all we need to show the source of our dataset.\n",
        "\n",
        "\n",
        "Citation Request:\n",
        "  This dataset is public available for research. The details are described in [Cortez and Morais, 2007]. \n",
        "  Please include this citation if you plan to use this database:\n",
        "\n",
        "  P. Cortez and A. Morais. A Data Mining Approach to Predict Forest Fires using Meteorological Data. \n",
        "  In J. Neves, M. F. Santos and J. Machado Eds., New Trends in Artificial Intelligence, \n",
        "  Proceedings of the 13th EPIA 2007 - Portuguese Conference on Artificial Intelligence, December, \n",
        "  Guimaraes, Portugal, pp. 512-523, 2007. APPIA, ISBN-13 978-989-95618-0-9. \n",
        "  Available at: http://www.dsi.uminho.pt/~pcortez/fires.pdf\n",
        "\n",
        "\n",
        "\n",
        "  Our dataset is combined from two different datasets.\n",
        "  Former is data collected from Montesinhonatural park.\n",
        "  The data used in the experiments was collected from January 2000 to    December 2003. It containes month,day of week, spatial location within a 9×9 grid and the six components of the FWI systemand the total burned area.\n",
        "  Latter contains information about the weather at that moment.\n",
        "\n",
        "  "
      ]
    },
    {
      "cell_type": "markdown",
      "metadata": {
        "id": "NqM_orwkI28k",
        "colab_type": "text"
      },
      "source": [
        "First we need to import pandas to use our dataset.\n",
        "Numpy for various calculations and scikit-learn for regression."
      ]
    },
    {
      "cell_type": "code",
      "metadata": {
        "id": "IcWr4z7tBq_2",
        "colab_type": "code",
        "colab": {}
      },
      "source": [
        "import pandas as pd\n",
        "import numpy as np\n",
        "from sklearn.linear_model import LinearRegression\n",
        "from sklearn.linear_model import Lasso\n",
        "from sklearn.linear_model import Ridge\n",
        "import matplotlib.pyplot as plt  #For plot\n",
        "from sklearn.model_selection import train_test_split #Splitting the data train and test\n",
        "from sklearn import metrics\n",
        "import seaborn as sns #For plot\n",
        "from sklearn.cluster import KMeans\n",
        "from sklearn.neighbors import KNeighborsClassifier\n",
        "from sklearn.model_selection import cross_val_score\n",
        "from sklearn.preprocessing import MinMaxScaler\n",
        "from sklearn import svm\n",
        "from sklearn.neural_network import MLPClassifier\n",
        "from sklearn.utils import shuffle\n",
        "from sklearn.linear_model import LogisticRegression\n",
        "%matplotlib inline"
      ],
      "execution_count": null,
      "outputs": []
    },
    {
      "cell_type": "code",
      "metadata": {
        "id": "laxiXIdaPCMh",
        "colab_type": "code",
        "colab": {}
      },
      "source": [
        "from google.colab import drive\n",
        "drive.mount('/content/gdrive')"
      ],
      "execution_count": null,
      "outputs": []
    },
    {
      "cell_type": "markdown",
      "metadata": {
        "id": "ot8XBPn0JJ7R",
        "colab_type": "text"
      },
      "source": [
        "Then we use pandas to get the .csv file (Which is the data of dataset) from the link."
      ]
    },
    {
      "cell_type": "code",
      "metadata": {
        "id": "rjH8uKDYCWtC",
        "colab_type": "code",
        "colab": {}
      },
      "source": [
        "url = 'https://archive.ics.uci.edu/ml/machine-learning-databases/forest-fires/forestfires.csv'\n",
        "df = pd.read_csv(url)"
      ],
      "execution_count": null,
      "outputs": []
    },
    {
      "cell_type": "markdown",
      "metadata": {
        "id": "RsgBnWkFJgDC",
        "colab_type": "text"
      },
      "source": [
        "This is how our dataset looks like."
      ]
    },
    {
      "cell_type": "code",
      "metadata": {
        "id": "TXrxp-YfCatg",
        "colab_type": "code",
        "colab": {
          "base_uri": "https://localhost:8080/",
          "height": 399
        },
        "outputId": "291adcac-2e8c-4211-f4f2-5566cae70e2a"
      },
      "source": [
        "df"
      ],
      "execution_count": null,
      "outputs": [
        {
          "output_type": "execute_result",
          "data": {
            "text/html": [
              "<div>\n",
              "<style scoped>\n",
              "    .dataframe tbody tr th:only-of-type {\n",
              "        vertical-align: middle;\n",
              "    }\n",
              "\n",
              "    .dataframe tbody tr th {\n",
              "        vertical-align: top;\n",
              "    }\n",
              "\n",
              "    .dataframe thead th {\n",
              "        text-align: right;\n",
              "    }\n",
              "</style>\n",
              "<table border=\"1\" class=\"dataframe\">\n",
              "  <thead>\n",
              "    <tr style=\"text-align: right;\">\n",
              "      <th></th>\n",
              "      <th>X</th>\n",
              "      <th>Y</th>\n",
              "      <th>month</th>\n",
              "      <th>day</th>\n",
              "      <th>FFMC</th>\n",
              "      <th>DMC</th>\n",
              "      <th>DC</th>\n",
              "      <th>ISI</th>\n",
              "      <th>temp</th>\n",
              "      <th>RH</th>\n",
              "      <th>wind</th>\n",
              "      <th>rain</th>\n",
              "      <th>area</th>\n",
              "    </tr>\n",
              "  </thead>\n",
              "  <tbody>\n",
              "    <tr>\n",
              "      <th>0</th>\n",
              "      <td>7</td>\n",
              "      <td>5</td>\n",
              "      <td>mar</td>\n",
              "      <td>fri</td>\n",
              "      <td>86.2</td>\n",
              "      <td>26.2</td>\n",
              "      <td>94.3</td>\n",
              "      <td>5.1</td>\n",
              "      <td>8.2</td>\n",
              "      <td>51</td>\n",
              "      <td>6.7</td>\n",
              "      <td>0.0</td>\n",
              "      <td>0.00</td>\n",
              "    </tr>\n",
              "    <tr>\n",
              "      <th>1</th>\n",
              "      <td>7</td>\n",
              "      <td>4</td>\n",
              "      <td>oct</td>\n",
              "      <td>tue</td>\n",
              "      <td>90.6</td>\n",
              "      <td>35.4</td>\n",
              "      <td>669.1</td>\n",
              "      <td>6.7</td>\n",
              "      <td>18.0</td>\n",
              "      <td>33</td>\n",
              "      <td>0.9</td>\n",
              "      <td>0.0</td>\n",
              "      <td>0.00</td>\n",
              "    </tr>\n",
              "    <tr>\n",
              "      <th>2</th>\n",
              "      <td>7</td>\n",
              "      <td>4</td>\n",
              "      <td>oct</td>\n",
              "      <td>sat</td>\n",
              "      <td>90.6</td>\n",
              "      <td>43.7</td>\n",
              "      <td>686.9</td>\n",
              "      <td>6.7</td>\n",
              "      <td>14.6</td>\n",
              "      <td>33</td>\n",
              "      <td>1.3</td>\n",
              "      <td>0.0</td>\n",
              "      <td>0.00</td>\n",
              "    </tr>\n",
              "    <tr>\n",
              "      <th>3</th>\n",
              "      <td>8</td>\n",
              "      <td>6</td>\n",
              "      <td>mar</td>\n",
              "      <td>fri</td>\n",
              "      <td>91.7</td>\n",
              "      <td>33.3</td>\n",
              "      <td>77.5</td>\n",
              "      <td>9.0</td>\n",
              "      <td>8.3</td>\n",
              "      <td>97</td>\n",
              "      <td>4.0</td>\n",
              "      <td>0.2</td>\n",
              "      <td>0.00</td>\n",
              "    </tr>\n",
              "    <tr>\n",
              "      <th>4</th>\n",
              "      <td>8</td>\n",
              "      <td>6</td>\n",
              "      <td>mar</td>\n",
              "      <td>sun</td>\n",
              "      <td>89.3</td>\n",
              "      <td>51.3</td>\n",
              "      <td>102.2</td>\n",
              "      <td>9.6</td>\n",
              "      <td>11.4</td>\n",
              "      <td>99</td>\n",
              "      <td>1.8</td>\n",
              "      <td>0.0</td>\n",
              "      <td>0.00</td>\n",
              "    </tr>\n",
              "    <tr>\n",
              "      <th>...</th>\n",
              "      <td>...</td>\n",
              "      <td>...</td>\n",
              "      <td>...</td>\n",
              "      <td>...</td>\n",
              "      <td>...</td>\n",
              "      <td>...</td>\n",
              "      <td>...</td>\n",
              "      <td>...</td>\n",
              "      <td>...</td>\n",
              "      <td>...</td>\n",
              "      <td>...</td>\n",
              "      <td>...</td>\n",
              "      <td>...</td>\n",
              "    </tr>\n",
              "    <tr>\n",
              "      <th>512</th>\n",
              "      <td>4</td>\n",
              "      <td>3</td>\n",
              "      <td>aug</td>\n",
              "      <td>sun</td>\n",
              "      <td>81.6</td>\n",
              "      <td>56.7</td>\n",
              "      <td>665.6</td>\n",
              "      <td>1.9</td>\n",
              "      <td>27.8</td>\n",
              "      <td>32</td>\n",
              "      <td>2.7</td>\n",
              "      <td>0.0</td>\n",
              "      <td>6.44</td>\n",
              "    </tr>\n",
              "    <tr>\n",
              "      <th>513</th>\n",
              "      <td>2</td>\n",
              "      <td>4</td>\n",
              "      <td>aug</td>\n",
              "      <td>sun</td>\n",
              "      <td>81.6</td>\n",
              "      <td>56.7</td>\n",
              "      <td>665.6</td>\n",
              "      <td>1.9</td>\n",
              "      <td>21.9</td>\n",
              "      <td>71</td>\n",
              "      <td>5.8</td>\n",
              "      <td>0.0</td>\n",
              "      <td>54.29</td>\n",
              "    </tr>\n",
              "    <tr>\n",
              "      <th>514</th>\n",
              "      <td>7</td>\n",
              "      <td>4</td>\n",
              "      <td>aug</td>\n",
              "      <td>sun</td>\n",
              "      <td>81.6</td>\n",
              "      <td>56.7</td>\n",
              "      <td>665.6</td>\n",
              "      <td>1.9</td>\n",
              "      <td>21.2</td>\n",
              "      <td>70</td>\n",
              "      <td>6.7</td>\n",
              "      <td>0.0</td>\n",
              "      <td>11.16</td>\n",
              "    </tr>\n",
              "    <tr>\n",
              "      <th>515</th>\n",
              "      <td>1</td>\n",
              "      <td>4</td>\n",
              "      <td>aug</td>\n",
              "      <td>sat</td>\n",
              "      <td>94.4</td>\n",
              "      <td>146.0</td>\n",
              "      <td>614.7</td>\n",
              "      <td>11.3</td>\n",
              "      <td>25.6</td>\n",
              "      <td>42</td>\n",
              "      <td>4.0</td>\n",
              "      <td>0.0</td>\n",
              "      <td>0.00</td>\n",
              "    </tr>\n",
              "    <tr>\n",
              "      <th>516</th>\n",
              "      <td>6</td>\n",
              "      <td>3</td>\n",
              "      <td>nov</td>\n",
              "      <td>tue</td>\n",
              "      <td>79.5</td>\n",
              "      <td>3.0</td>\n",
              "      <td>106.7</td>\n",
              "      <td>1.1</td>\n",
              "      <td>11.8</td>\n",
              "      <td>31</td>\n",
              "      <td>4.5</td>\n",
              "      <td>0.0</td>\n",
              "      <td>0.00</td>\n",
              "    </tr>\n",
              "  </tbody>\n",
              "</table>\n",
              "<p>517 rows × 13 columns</p>\n",
              "</div>"
            ],
            "text/plain": [
              "     X  Y month  day  FFMC    DMC     DC   ISI  temp  RH  wind  rain   area\n",
              "0    7  5   mar  fri  86.2   26.2   94.3   5.1   8.2  51   6.7   0.0   0.00\n",
              "1    7  4   oct  tue  90.6   35.4  669.1   6.7  18.0  33   0.9   0.0   0.00\n",
              "2    7  4   oct  sat  90.6   43.7  686.9   6.7  14.6  33   1.3   0.0   0.00\n",
              "3    8  6   mar  fri  91.7   33.3   77.5   9.0   8.3  97   4.0   0.2   0.00\n",
              "4    8  6   mar  sun  89.3   51.3  102.2   9.6  11.4  99   1.8   0.0   0.00\n",
              "..  .. ..   ...  ...   ...    ...    ...   ...   ...  ..   ...   ...    ...\n",
              "512  4  3   aug  sun  81.6   56.7  665.6   1.9  27.8  32   2.7   0.0   6.44\n",
              "513  2  4   aug  sun  81.6   56.7  665.6   1.9  21.9  71   5.8   0.0  54.29\n",
              "514  7  4   aug  sun  81.6   56.7  665.6   1.9  21.2  70   6.7   0.0  11.16\n",
              "515  1  4   aug  sat  94.4  146.0  614.7  11.3  25.6  42   4.0   0.0   0.00\n",
              "516  6  3   nov  tue  79.5    3.0  106.7   1.1  11.8  31   4.5   0.0   0.00\n",
              "\n",
              "[517 rows x 13 columns]"
            ]
          },
          "metadata": {
            "tags": []
          },
          "execution_count": 1095
        }
      ]
    },
    {
      "cell_type": "code",
      "metadata": {
        "id": "tCUdQh4zXdxG",
        "colab_type": "code",
        "colab": {
          "base_uri": "https://localhost:8080/",
          "height": 283
        },
        "outputId": "439b3e7a-e10a-4900-a254-b4813c38dd79"
      },
      "source": [
        "area_temp = df['area']\n",
        "area_temp = area_temp.sort_values()\n",
        "plt.plot(range(len(area_temp)),area_temp)"
      ],
      "execution_count": null,
      "outputs": [
        {
          "output_type": "execute_result",
          "data": {
            "text/plain": [
              "[<matplotlib.lines.Line2D at 0x7f50fc582dd8>]"
            ]
          },
          "metadata": {
            "tags": []
          },
          "execution_count": 1096
        },
        {
          "output_type": "display_data",
          "data": {
            "image/png": "[encoded data removed]",
            "text/plain": [
              "<Figure size 432x288 with 1 Axes>"
            ]
          },
          "metadata": {
            "tags": [],
            "needs_background": "light"
          }
        }
      ]
    },
    {
      "cell_type": "code",
      "metadata": {
        "id": "9x8PVcWiYz_W",
        "colab_type": "code",
        "colab": {
          "base_uri": "https://localhost:8080/",
          "height": 282
        },
        "outputId": "fd0a6405-071b-48ec-f038-5853d4d70a57"
      },
      "source": [
        "df.describe()"
      ],
      "execution_count": null,
      "outputs": [
        {
          "output_type": "execute_result",
          "data": {
            "text/html": [
              "<div>\n",
              "<style scoped>\n",
              "    .dataframe tbody tr th:only-of-type {\n",
              "        vertical-align: middle;\n",
              "    }\n",
              "\n",
              "    .dataframe tbody tr th {\n",
              "        vertical-align: top;\n",
              "    }\n",
              "\n",
              "    .dataframe thead th {\n",
              "        text-align: right;\n",
              "    }\n",
              "</style>\n",
              "<table border=\"1\" class=\"dataframe\">\n",
              "  <thead>\n",
              "    <tr style=\"text-align: right;\">\n",
              "      <th></th>\n",
              "      <th>X</th>\n",
              "      <th>Y</th>\n",
              "      <th>FFMC</th>\n",
              "      <th>DMC</th>\n",
              "      <th>DC</th>\n",
              "      <th>ISI</th>\n",
              "      <th>temp</th>\n",
              "      <th>RH</th>\n",
              "      <th>wind</th>\n",
              "      <th>rain</th>\n",
              "      <th>area</th>\n",
              "    </tr>\n",
              "  </thead>\n",
              "  <tbody>\n",
              "    <tr>\n",
              "      <th>count</th>\n",
              "      <td>517.000000</td>\n",
              "      <td>517.000000</td>\n",
              "      <td>517.000000</td>\n",
              "      <td>517.000000</td>\n",
              "      <td>517.000000</td>\n",
              "      <td>517.000000</td>\n",
              "      <td>517.000000</td>\n",
              "      <td>517.000000</td>\n",
              "      <td>517.000000</td>\n",
              "      <td>517.000000</td>\n",
              "      <td>517.000000</td>\n",
              "    </tr>\n",
              "    <tr>\n",
              "      <th>mean</th>\n",
              "      <td>4.669246</td>\n",
              "      <td>4.299807</td>\n",
              "      <td>90.644681</td>\n",
              "      <td>110.872340</td>\n",
              "      <td>547.940039</td>\n",
              "      <td>9.021663</td>\n",
              "      <td>18.889168</td>\n",
              "      <td>44.288201</td>\n",
              "      <td>4.017602</td>\n",
              "      <td>0.021663</td>\n",
              "      <td>12.847292</td>\n",
              "    </tr>\n",
              "    <tr>\n",
              "      <th>std</th>\n",
              "      <td>2.313778</td>\n",
              "      <td>1.229900</td>\n",
              "      <td>5.520111</td>\n",
              "      <td>64.046482</td>\n",
              "      <td>248.066192</td>\n",
              "      <td>4.559477</td>\n",
              "      <td>5.806625</td>\n",
              "      <td>16.317469</td>\n",
              "      <td>1.791653</td>\n",
              "      <td>0.295959</td>\n",
              "      <td>63.655818</td>\n",
              "    </tr>\n",
              "    <tr>\n",
              "      <th>min</th>\n",
              "      <td>1.000000</td>\n",
              "      <td>2.000000</td>\n",
              "      <td>18.700000</td>\n",
              "      <td>1.100000</td>\n",
              "      <td>7.900000</td>\n",
              "      <td>0.000000</td>\n",
              "      <td>2.200000</td>\n",
              "      <td>15.000000</td>\n",
              "      <td>0.400000</td>\n",
              "      <td>0.000000</td>\n",
              "      <td>0.000000</td>\n",
              "    </tr>\n",
              "    <tr>\n",
              "      <th>25%</th>\n",
              "      <td>3.000000</td>\n",
              "      <td>4.000000</td>\n",
              "      <td>90.200000</td>\n",
              "      <td>68.600000</td>\n",
              "      <td>437.700000</td>\n",
              "      <td>6.500000</td>\n",
              "      <td>15.500000</td>\n",
              "      <td>33.000000</td>\n",
              "      <td>2.700000</td>\n",
              "      <td>0.000000</td>\n",
              "      <td>0.000000</td>\n",
              "    </tr>\n",
              "    <tr>\n",
              "      <th>50%</th>\n",
              "      <td>4.000000</td>\n",
              "      <td>4.000000</td>\n",
              "      <td>91.600000</td>\n",
              "      <td>108.300000</td>\n",
              "      <td>664.200000</td>\n",
              "      <td>8.400000</td>\n",
              "      <td>19.300000</td>\n",
              "      <td>42.000000</td>\n",
              "      <td>4.000000</td>\n",
              "      <td>0.000000</td>\n",
              "      <td>0.520000</td>\n",
              "    </tr>\n",
              "    <tr>\n",
              "      <th>75%</th>\n",
              "      <td>7.000000</td>\n",
              "      <td>5.000000</td>\n",
              "      <td>92.900000</td>\n",
              "      <td>142.400000</td>\n",
              "      <td>713.900000</td>\n",
              "      <td>10.800000</td>\n",
              "      <td>22.800000</td>\n",
              "      <td>53.000000</td>\n",
              "      <td>4.900000</td>\n",
              "      <td>0.000000</td>\n",
              "      <td>6.570000</td>\n",
              "    </tr>\n",
              "    <tr>\n",
              "      <th>max</th>\n",
              "      <td>9.000000</td>\n",
              "      <td>9.000000</td>\n",
              "      <td>96.200000</td>\n",
              "      <td>291.300000</td>\n",
              "      <td>860.600000</td>\n",
              "      <td>56.100000</td>\n",
              "      <td>33.300000</td>\n",
              "      <td>100.000000</td>\n",
              "      <td>9.400000</td>\n",
              "      <td>6.400000</td>\n",
              "      <td>1090.840000</td>\n",
              "    </tr>\n",
              "  </tbody>\n",
              "</table>\n",
              "</div>"
            ],
            "text/plain": [
              "                X           Y        FFMC  ...        wind        rain         area\n",
              "count  517.000000  517.000000  517.000000  ...  517.000000  517.000000   517.000000\n",
              "mean     4.669246    4.299807   90.644681  ...    4.017602    0.021663    12.847292\n",
              "std      2.313778    1.229900    5.520111  ...    1.791653    0.295959    63.655818\n",
              "min      1.000000    2.000000   18.700000  ...    0.400000    0.000000     0.000000\n",
              "25%      3.000000    4.000000   90.200000  ...    2.700000    0.000000     0.000000\n",
              "50%      4.000000    4.000000   91.600000  ...    4.000000    0.000000     0.520000\n",
              "75%      7.000000    5.000000   92.900000  ...    4.900000    0.000000     6.570000\n",
              "max      9.000000    9.000000   96.200000  ...    9.400000    6.400000  1090.840000\n",
              "\n",
              "[8 rows x 11 columns]"
            ]
          },
          "metadata": {
            "tags": []
          },
          "execution_count": 1097
        }
      ]
    },
    {
      "cell_type": "markdown",
      "metadata": {
        "id": "9tkEtwFHJuEF",
        "colab_type": "text"
      },
      "source": [
        "We remove the X and Y columns of our dataset. Those values are used to declare which part of the naturalpark the forestfire occured as coordinates.(X,Y)\n",
        "We will remove FWI values too.\n",
        "The reason we are using those is to achieve a model to be used on general scale.\n"
      ]
    },
    {
      "cell_type": "code",
      "metadata": {
        "id": "V_lE0PqMCzAz",
        "colab_type": "code",
        "colab": {}
      },
      "source": [
        "df2 = df.drop(['X', 'Y','FFMC','DMC','DC','ISI','month','day'], axis = 1) "
      ],
      "execution_count": null,
      "outputs": []
    },
    {
      "cell_type": "markdown",
      "metadata": {
        "id": "UquYhK8XAVOU",
        "colab_type": "text"
      },
      "source": [
        "We cannot use the month and day values because they are categorical and using them in regression would be stating a relation between them."
      ]
    },
    {
      "cell_type": "markdown",
      "metadata": {
        "id": "bLu8zO5tBzl6",
        "colab_type": "text"
      },
      "source": [
        "Our dataset will look like this."
      ]
    },
    {
      "cell_type": "code",
      "metadata": {
        "id": "3bEUOQ1L7xDj",
        "colab_type": "code",
        "colab": {
          "base_uri": "https://localhost:8080/",
          "height": 399
        },
        "outputId": "65fee7c9-5c2c-4332-8106-1bb78c23d726"
      },
      "source": [
        "df2"
      ],
      "execution_count": null,
      "outputs": [
        {
          "output_type": "execute_result",
          "data": {
            "text/html": [
              "<div>\n",
              "<style scoped>\n",
              "    .dataframe tbody tr th:only-of-type {\n",
              "        vertical-align: middle;\n",
              "    }\n",
              "\n",
              "    .dataframe tbody tr th {\n",
              "        vertical-align: top;\n",
              "    }\n",
              "\n",
              "    .dataframe thead th {\n",
              "        text-align: right;\n",
              "    }\n",
              "</style>\n",
              "<table border=\"1\" class=\"dataframe\">\n",
              "  <thead>\n",
              "    <tr style=\"text-align: right;\">\n",
              "      <th></th>\n",
              "      <th>temp</th>\n",
              "      <th>RH</th>\n",
              "      <th>wind</th>\n",
              "      <th>rain</th>\n",
              "      <th>area</th>\n",
              "    </tr>\n",
              "  </thead>\n",
              "  <tbody>\n",
              "    <tr>\n",
              "      <th>0</th>\n",
              "      <td>8.2</td>\n",
              "      <td>51</td>\n",
              "      <td>6.7</td>\n",
              "      <td>0.0</td>\n",
              "      <td>0.00</td>\n",
              "    </tr>\n",
              "    <tr>\n",
              "      <th>1</th>\n",
              "      <td>18.0</td>\n",
              "      <td>33</td>\n",
              "      <td>0.9</td>\n",
              "      <td>0.0</td>\n",
              "      <td>0.00</td>\n",
              "    </tr>\n",
              "    <tr>\n",
              "      <th>2</th>\n",
              "      <td>14.6</td>\n",
              "      <td>33</td>\n",
              "      <td>1.3</td>\n",
              "      <td>0.0</td>\n",
              "      <td>0.00</td>\n",
              "    </tr>\n",
              "    <tr>\n",
              "      <th>3</th>\n",
              "      <td>8.3</td>\n",
              "      <td>97</td>\n",
              "      <td>4.0</td>\n",
              "      <td>0.2</td>\n",
              "      <td>0.00</td>\n",
              "    </tr>\n",
              "    <tr>\n",
              "      <th>4</th>\n",
              "      <td>11.4</td>\n",
              "      <td>99</td>\n",
              "      <td>1.8</td>\n",
              "      <td>0.0</td>\n",
              "      <td>0.00</td>\n",
              "    </tr>\n",
              "    <tr>\n",
              "      <th>...</th>\n",
              "      <td>...</td>\n",
              "      <td>...</td>\n",
              "      <td>...</td>\n",
              "      <td>...</td>\n",
              "      <td>...</td>\n",
              "    </tr>\n",
              "    <tr>\n",
              "      <th>512</th>\n",
              "      <td>27.8</td>\n",
              "      <td>32</td>\n",
              "      <td>2.7</td>\n",
              "      <td>0.0</td>\n",
              "      <td>6.44</td>\n",
              "    </tr>\n",
              "    <tr>\n",
              "      <th>513</th>\n",
              "      <td>21.9</td>\n",
              "      <td>71</td>\n",
              "      <td>5.8</td>\n",
              "      <td>0.0</td>\n",
              "      <td>54.29</td>\n",
              "    </tr>\n",
              "    <tr>\n",
              "      <th>514</th>\n",
              "      <td>21.2</td>\n",
              "      <td>70</td>\n",
              "      <td>6.7</td>\n",
              "      <td>0.0</td>\n",
              "      <td>11.16</td>\n",
              "    </tr>\n",
              "    <tr>\n",
              "      <th>515</th>\n",
              "      <td>25.6</td>\n",
              "      <td>42</td>\n",
              "      <td>4.0</td>\n",
              "      <td>0.0</td>\n",
              "      <td>0.00</td>\n",
              "    </tr>\n",
              "    <tr>\n",
              "      <th>516</th>\n",
              "      <td>11.8</td>\n",
              "      <td>31</td>\n",
              "      <td>4.5</td>\n",
              "      <td>0.0</td>\n",
              "      <td>0.00</td>\n",
              "    </tr>\n",
              "  </tbody>\n",
              "</table>\n",
              "<p>517 rows × 5 columns</p>\n",
              "</div>"
            ],
            "text/plain": [
              "     temp  RH  wind  rain   area\n",
              "0     8.2  51   6.7   0.0   0.00\n",
              "1    18.0  33   0.9   0.0   0.00\n",
              "2    14.6  33   1.3   0.0   0.00\n",
              "3     8.3  97   4.0   0.2   0.00\n",
              "4    11.4  99   1.8   0.0   0.00\n",
              "..    ...  ..   ...   ...    ...\n",
              "512  27.8  32   2.7   0.0   6.44\n",
              "513  21.9  71   5.8   0.0  54.29\n",
              "514  21.2  70   6.7   0.0  11.16\n",
              "515  25.6  42   4.0   0.0   0.00\n",
              "516  11.8  31   4.5   0.0   0.00\n",
              "\n",
              "[517 rows x 5 columns]"
            ]
          },
          "metadata": {
            "tags": []
          },
          "execution_count": 1099
        }
      ]
    },
    {
      "cell_type": "markdown",
      "metadata": {
        "id": "YzkQmmUHByQH",
        "colab_type": "text"
      },
      "source": [
        "We will use the area value as Y(target) value."
      ]
    },
    {
      "cell_type": "code",
      "metadata": {
        "id": "rIQ4PlRL_orD",
        "colab_type": "code",
        "colab": {}
      },
      "source": [
        "X = df2.drop(columns=['area'])\n",
        "y = df2['area']"
      ],
      "execution_count": null,
      "outputs": []
    },
    {
      "cell_type": "markdown",
      "metadata": {
        "id": "K4jVhuYdCCl3",
        "colab_type": "text"
      },
      "source": [
        "We have splitted the data as %20 train and %80 test."
      ]
    },
    {
      "cell_type": "code",
      "metadata": {
        "id": "-oYI6yEe_qwi",
        "colab_type": "code",
        "colab": {}
      },
      "source": [
        "from sklearn.model_selection import train_test_split\n",
        "X_train, X_test, y_train, y_test = train_test_split(X, y, test_size=0.2, random_state=0)\n"
      ],
      "execution_count": null,
      "outputs": []
    },
    {
      "cell_type": "markdown",
      "metadata": {
        "id": "B4CIsALXCm_a",
        "colab_type": "text"
      },
      "source": [
        "We will fit our model with Least Squares Linear Regression."
      ]
    },
    {
      "cell_type": "code",
      "metadata": {
        "id": "UOhrd9nbDhnZ",
        "colab_type": "code",
        "colab": {
          "base_uri": "https://localhost:8080/",
          "height": 35
        },
        "outputId": "08b1d66c-ffb6-4f5f-8236-02b998e7b99f"
      },
      "source": [
        "regressor = LinearRegression() \n",
        "regressor.fit(X_train, y_train)"
      ],
      "execution_count": null,
      "outputs": [
        {
          "output_type": "execute_result",
          "data": {
            "text/plain": [
              "LinearRegression(copy_X=True, fit_intercept=True, n_jobs=None, normalize=False)"
            ]
          },
          "metadata": {
            "tags": []
          },
          "execution_count": 1102
        }
      ]
    },
    {
      "cell_type": "markdown",
      "metadata": {
        "id": "gU8eobrOGqKi",
        "colab_type": "text"
      },
      "source": [
        "To check the accuracy of our model we will use MSE."
      ]
    },
    {
      "cell_type": "code",
      "metadata": {
        "id": "EKGMXYCnDzWO",
        "colab_type": "code",
        "colab": {
          "base_uri": "https://localhost:8080/",
          "height": 35
        },
        "outputId": "77cc8e69-6cb1-446e-ea15-eaa3d008a395"
      },
      "source": [
        "y_pred = regressor.predict(X_test)\n",
        "print('Mean Absolute Error:', metrics.mean_absolute_error(y_test, y_pred))  "
      ],
      "execution_count": null,
      "outputs": [
        {
          "output_type": "stream",
          "text": [
            "Mean Absolute Error: 25.884922040576985\n"
          ],
          "name": "stdout"
        }
      ]
    },
    {
      "cell_type": "markdown",
      "metadata": {
        "id": "rG7qnideFi3R",
        "colab_type": "text"
      },
      "source": [
        "\n",
        "Let's use Ridge Linear Regression.Learning rate as 0.01 is from trial and error."
      ]
    },
    {
      "cell_type": "code",
      "metadata": {
        "id": "lcGob1yUMCzl",
        "colab_type": "code",
        "colab": {
          "base_uri": "https://localhost:8080/",
          "height": 52
        },
        "outputId": "56788033-814d-47b3-e2d3-81a707875349"
      },
      "source": [
        "ridge_regressor = Ridge(alpha=0.01, fit_intercept=True, normalize=True, copy_X=True, max_iter=10000, tol=0.000001, solver='sag', random_state=None)\n",
        "ridge_regressor.fit(X_train, y_train)"
      ],
      "execution_count": null,
      "outputs": [
        {
          "output_type": "execute_result",
          "data": {
            "text/plain": [
              "Ridge(alpha=0.01, copy_X=True, fit_intercept=True, max_iter=10000,\n",
              "      normalize=True, random_state=None, solver='sag', tol=1e-06)"
            ]
          },
          "metadata": {
            "tags": []
          },
          "execution_count": 1104
        }
      ]
    },
    {
      "cell_type": "code",
      "metadata": {
        "id": "2ejzGfRMMXQd",
        "colab_type": "code",
        "colab": {}
      },
      "source": [
        "y_ridge_pred = ridge_regressor.predict(X_test)"
      ],
      "execution_count": null,
      "outputs": []
    },
    {
      "cell_type": "code",
      "metadata": {
        "id": "cI4JknsdWVjL",
        "colab_type": "code",
        "colab": {
          "base_uri": "https://localhost:8080/",
          "height": 35
        },
        "outputId": "2dd83dc8-5de4-4f38-e121-3f6a2ff08b01"
      },
      "source": [
        "print('Mean Absolute Error:', metrics.mean_absolute_error(y_test, y_ridge_pred))  "
      ],
      "execution_count": null,
      "outputs": [
        {
          "output_type": "stream",
          "text": [
            "Mean Absolute Error: 25.881021858832774\n"
          ],
          "name": "stdout"
        }
      ]
    },
    {
      "cell_type": "markdown",
      "metadata": {
        "id": "Kv-pTOuqI5sc",
        "colab_type": "text"
      },
      "source": [
        "Let's check the accuracy for Lasso Linear Regression."
      ]
    },
    {
      "cell_type": "code",
      "metadata": {
        "id": "dQo9cbqeJCWt",
        "colab_type": "code",
        "colab": {
          "base_uri": "https://localhost:8080/",
          "height": 70
        },
        "outputId": "f9ef78c5-b846-447a-d43b-a4a799104ff8"
      },
      "source": [
        "lasso_regressor =  Lasso(alpha=0.1, fit_intercept=True, normalize=False, precompute=False, copy_X=True, warm_start=False, positive=False, random_state=None, selection='cyclic')\n",
        "lasso_regressor.fit(X_train, y_train)"
      ],
      "execution_count": null,
      "outputs": [
        {
          "output_type": "execute_result",
          "data": {
            "text/plain": [
              "Lasso(alpha=0.1, copy_X=True, fit_intercept=True, max_iter=1000,\n",
              "      normalize=False, positive=False, precompute=False, random_state=None,\n",
              "      selection='cyclic', tol=0.0001, warm_start=False)"
            ]
          },
          "metadata": {
            "tags": []
          },
          "execution_count": 1107
        }
      ]
    },
    {
      "cell_type": "code",
      "metadata": {
        "id": "a8Q4HW_AIABP",
        "colab_type": "code",
        "colab": {
          "base_uri": "https://localhost:8080/",
          "height": 35
        },
        "outputId": "4d31b7cb-a3b0-42a5-c6d9-130508e07ded"
      },
      "source": [
        "y_lasso_pred = lasso_regressor.predict(X_test)\n",
        "print('Mean Absolute Error:', metrics.mean_absolute_error(y_test, y_lasso_pred))  "
      ],
      "execution_count": null,
      "outputs": [
        {
          "output_type": "stream",
          "text": [
            "Mean Absolute Error: 25.88306534228093\n"
          ],
          "name": "stdout"
        }
      ]
    },
    {
      "cell_type": "markdown",
      "metadata": {
        "id": "wTBUlsHvQpJf",
        "colab_type": "text"
      },
      "source": [
        "Let's check the knn regression too. Higher error in knn regression is expected data is not scattered and mostly 0."
      ]
    },
    {
      "cell_type": "code",
      "metadata": {
        "id": "oFTXERoNP1nB",
        "colab_type": "code",
        "colab": {
          "base_uri": "https://localhost:8080/",
          "height": 70
        },
        "outputId": "743706ec-f867-4b7b-848e-06028610ae04"
      },
      "source": [
        "from sklearn.neighbors import KNeighborsRegressor\n",
        "\n",
        "knn_regressor = KNeighborsRegressor(n_neighbors=5, weights='uniform', algorithm='auto', leaf_size=30, p=2, metric='minkowski', metric_params=None, n_jobs=None)\n",
        "knn_regressor.fit(X_train,y_train)"
      ],
      "execution_count": null,
      "outputs": [
        {
          "output_type": "execute_result",
          "data": {
            "text/plain": [
              "KNeighborsRegressor(algorithm='auto', leaf_size=30, metric='minkowski',\n",
              "                    metric_params=None, n_jobs=None, n_neighbors=5, p=2,\n",
              "                    weights='uniform')"
            ]
          },
          "metadata": {
            "tags": []
          },
          "execution_count": 1109
        }
      ]
    },
    {
      "cell_type": "code",
      "metadata": {
        "id": "pziTzAbHP1yX",
        "colab_type": "code",
        "colab": {
          "base_uri": "https://localhost:8080/",
          "height": 35
        },
        "outputId": "e9ada108-62a3-4f72-f882-240251973d2d"
      },
      "source": [
        "kneigh_pred = knn_regressor.predict(X_test)\n",
        "print('Mean Absolute Error:', metrics.mean_absolute_error(y_test, kneigh_pred))  "
      ],
      "execution_count": null,
      "outputs": [
        {
          "output_type": "stream",
          "text": [
            "Mean Absolute Error: 26.909384615384617\n"
          ],
          "name": "stdout"
        }
      ]
    },
    {
      "cell_type": "markdown",
      "metadata": {
        "id": "--3yelkb779I",
        "colab_type": "text"
      },
      "source": [
        "Created the residual plot to check linearity.\n"
      ]
    },
    {
      "cell_type": "code",
      "metadata": {
        "id": "hZ7QDK5_MxnJ",
        "colab_type": "code",
        "colab": {}
      },
      "source": [
        "residuals = []\n",
        "for i in range(len(y_ridge_pred)):\n",
        "  residuals.append(y_test.values[i] - y_ridge_pred[i])"
      ],
      "execution_count": null,
      "outputs": []
    },
    {
      "cell_type": "code",
      "metadata": {
        "id": "qwI1OJHHPAKO",
        "colab_type": "code",
        "colab": {
          "base_uri": "https://localhost:8080/",
          "height": 265
        },
        "outputId": "6dcd2a1c-7b9a-4ce6-f4eb-8d4b45b41706"
      },
      "source": [
        "sns.residplot(x=y_ridge_pred , y=residuals , data='auto', color='green')\n",
        "\n",
        "# Display the plot\n",
        "plt.show()\n"
      ],
      "execution_count": null,
      "outputs": [
        {
          "output_type": "display_data",
          "data": {
            "image/png": "[encoded data removed]",
            "text/plain": [
              "<Figure size 432x288 with 1 Axes>"
            ]
          },
          "metadata": {
            "tags": [],
            "needs_background": "light"
          }
        }
      ]
    },
    {
      "cell_type": "markdown",
      "metadata": {
        "id": "ePZpJSAIRYd2",
        "colab_type": "text"
      },
      "source": [
        "To check the predictions of the models ,\n",
        "You can enter the inputs for todays and check the values.\n",
        "inputs : \n",
        "RH - relative humidity in %: 15.0 to 100\n",
        "wind - wind speed in km/h: 0.40 to 9.40\n",
        "rain - outside rain in mm/m2 : 0.0 to 6.4\n",
        "area - the burned area of the forest (in ha): 0.00 to 1090.84 \n",
        "\n",
        "From the runtime section above press run-all button.\n",
        "\n",
        "Some clarification about the output values:\n",
        "\n",
        "-Data is somewhat linear which means that KNN Regression will not provide a great answer.\n",
        "-Lasso Regression gets the absolute value of each weight which adds tendency to output bigger values."
      ]
    },
    {
      "cell_type": "code",
      "metadata": {
        "id": "g08v_xtzPQLh",
        "colab_type": "code",
        "cellView": "form",
        "colab": {
          "base_uri": "https://localhost:8080/",
          "height": 88
        },
        "outputId": "78dd93a3-391a-41c1-be91-c04c75d95e33"
      },
      "source": [
        " \n",
        " \n",
        "#@title Regression Predictions for Burned Area of Forest in a Forest Fire \n",
        " \n",
        "Celcius_Temperature = 1000.0 #@param {type:\"number\"}\n",
        "Relative_Humidity = 60.0 #@param {type:\"number\"}\n",
        "Wind = 10.0 #@param {type:\"number\"}\n",
        "Rain =  0#@param {type:\"number\"}\n",
        " \n",
        "value_array = [Celcius_Temperature,Relative_Humidity,Wind,Rain]\n",
        "value_array = np.array(value_array).reshape(1,-1)\n",
        "\n",
        "\n",
        "area_burned = regressor.predict(value_array)\n",
        "if (area_burned < 0 ):\n",
        "  area_burned = 0\n",
        "\n",
        "\n",
        "area_burned_ridge = ridge_regressor.predict(value_array)\n",
        "if (area_burned_ridge < 0 ):\n",
        "  area_burned_ridge = 0\n",
        "\n",
        "\n",
        "area_burned_lasso = lasso_regressor.predict(value_array)\n",
        "if (area_burned_lasso < 0 ):\n",
        "  area_burned_lasso = 0\n",
        "\n",
        "\n",
        "area_knn_regressor = knn_regressor.predict(value_array)\n",
        "if (area_knn_regressor < 0 ):\n",
        "  area_knn_regressor = 0\n",
        " \n",
        " \n",
        " \n",
        "print(\"Predicted value for burned area is (According to machine learning model trained with :Ordinary least squares linear regression) : \",area_burned)\n",
        "print(\"Predicted value for burned area is (According to machine learning model trained with :Ridge linear regression) : \",area_burned_ridge)\n",
        "print(\"Predicted value for burned area is (According to machine learning model trained with :Lasso linear regression) : \",area_burned_lasso)\n",
        "print(\"Predicted value for burned area is (According to machine learning model trained with :KNN regression) : \",area_knn_regressor)"
      ],
      "execution_count": null,
      "outputs": [
        {
          "output_type": "stream",
          "text": [
            "Predicted value for burned area is (According to machine learning model trained with :Ordinary least squares linear regression) :  [721.21232114]\n",
            "Predicted value for burned area is (According to machine learning model trained with :Ridge linear regression) :  [710.00448495]\n",
            "Predicted value for burned area is (According to machine learning model trained with :Lasso linear regression) :  [702.8538679]\n",
            "Predicted value for burned area is (According to machine learning model trained with :KNN regression) :  [8.776]\n"
          ],
          "name": "stdout"
        }
      ]
    },
    {
      "cell_type": "markdown",
      "metadata": {
        "id": "HpuI-2o3iVB7",
        "colab_type": "text"
      },
      "source": [
        "Let's use categorical values too."
      ]
    },
    {
      "cell_type": "code",
      "metadata": {
        "id": "bD7-k93ubEjX",
        "colab_type": "code",
        "colab": {
          "base_uri": "https://localhost:8080/",
          "height": 399
        },
        "outputId": "9ee02138-a214-4bff-e610-7c8a83324d79"
      },
      "source": [
        "df"
      ],
      "execution_count": null,
      "outputs": [
        {
          "output_type": "execute_result",
          "data": {
            "text/html": [
              "<div>\n",
              "<style scoped>\n",
              "    .dataframe tbody tr th:only-of-type {\n",
              "        vertical-align: middle;\n",
              "    }\n",
              "\n",
              "    .dataframe tbody tr th {\n",
              "        vertical-align: top;\n",
              "    }\n",
              "\n",
              "    .dataframe thead th {\n",
              "        text-align: right;\n",
              "    }\n",
              "</style>\n",
              "<table border=\"1\" class=\"dataframe\">\n",
              "  <thead>\n",
              "    <tr style=\"text-align: right;\">\n",
              "      <th></th>\n",
              "      <th>X</th>\n",
              "      <th>Y</th>\n",
              "      <th>month</th>\n",
              "      <th>day</th>\n",
              "      <th>FFMC</th>\n",
              "      <th>DMC</th>\n",
              "      <th>DC</th>\n",
              "      <th>ISI</th>\n",
              "      <th>temp</th>\n",
              "      <th>RH</th>\n",
              "      <th>wind</th>\n",
              "      <th>rain</th>\n",
              "      <th>area</th>\n",
              "    </tr>\n",
              "  </thead>\n",
              "  <tbody>\n",
              "    <tr>\n",
              "      <th>0</th>\n",
              "      <td>7</td>\n",
              "      <td>5</td>\n",
              "      <td>mar</td>\n",
              "      <td>fri</td>\n",
              "      <td>86.2</td>\n",
              "      <td>26.2</td>\n",
              "      <td>94.3</td>\n",
              "      <td>5.1</td>\n",
              "      <td>8.2</td>\n",
              "      <td>51</td>\n",
              "      <td>6.7</td>\n",
              "      <td>0.0</td>\n",
              "      <td>0.00</td>\n",
              "    </tr>\n",
              "    <tr>\n",
              "      <th>1</th>\n",
              "      <td>7</td>\n",
              "      <td>4</td>\n",
              "      <td>oct</td>\n",
              "      <td>tue</td>\n",
              "      <td>90.6</td>\n",
              "      <td>35.4</td>\n",
              "      <td>669.1</td>\n",
              "      <td>6.7</td>\n",
              "      <td>18.0</td>\n",
              "      <td>33</td>\n",
              "      <td>0.9</td>\n",
              "      <td>0.0</td>\n",
              "      <td>0.00</td>\n",
              "    </tr>\n",
              "    <tr>\n",
              "      <th>2</th>\n",
              "      <td>7</td>\n",
              "      <td>4</td>\n",
              "      <td>oct</td>\n",
              "      <td>sat</td>\n",
              "      <td>90.6</td>\n",
              "      <td>43.7</td>\n",
              "      <td>686.9</td>\n",
              "      <td>6.7</td>\n",
              "      <td>14.6</td>\n",
              "      <td>33</td>\n",
              "      <td>1.3</td>\n",
              "      <td>0.0</td>\n",
              "      <td>0.00</td>\n",
              "    </tr>\n",
              "    <tr>\n",
              "      <th>3</th>\n",
              "      <td>8</td>\n",
              "      <td>6</td>\n",
              "      <td>mar</td>\n",
              "      <td>fri</td>\n",
              "      <td>91.7</td>\n",
              "      <td>33.3</td>\n",
              "      <td>77.5</td>\n",
              "      <td>9.0</td>\n",
              "      <td>8.3</td>\n",
              "      <td>97</td>\n",
              "      <td>4.0</td>\n",
              "      <td>0.2</td>\n",
              "      <td>0.00</td>\n",
              "    </tr>\n",
              "    <tr>\n",
              "      <th>4</th>\n",
              "      <td>8</td>\n",
              "      <td>6</td>\n",
              "      <td>mar</td>\n",
              "      <td>sun</td>\n",
              "      <td>89.3</td>\n",
              "      <td>51.3</td>\n",
              "      <td>102.2</td>\n",
              "      <td>9.6</td>\n",
              "      <td>11.4</td>\n",
              "      <td>99</td>\n",
              "      <td>1.8</td>\n",
              "      <td>0.0</td>\n",
              "      <td>0.00</td>\n",
              "    </tr>\n",
              "    <tr>\n",
              "      <th>...</th>\n",
              "      <td>...</td>\n",
              "      <td>...</td>\n",
              "      <td>...</td>\n",
              "      <td>...</td>\n",
              "      <td>...</td>\n",
              "      <td>...</td>\n",
              "      <td>...</td>\n",
              "      <td>...</td>\n",
              "      <td>...</td>\n",
              "      <td>...</td>\n",
              "      <td>...</td>\n",
              "      <td>...</td>\n",
              "      <td>...</td>\n",
              "    </tr>\n",
              "    <tr>\n",
              "      <th>512</th>\n",
              "      <td>4</td>\n",
              "      <td>3</td>\n",
              "      <td>aug</td>\n",
              "      <td>sun</td>\n",
              "      <td>81.6</td>\n",
              "      <td>56.7</td>\n",
              "      <td>665.6</td>\n",
              "      <td>1.9</td>\n",
              "      <td>27.8</td>\n",
              "      <td>32</td>\n",
              "      <td>2.7</td>\n",
              "      <td>0.0</td>\n",
              "      <td>6.44</td>\n",
              "    </tr>\n",
              "    <tr>\n",
              "      <th>513</th>\n",
              "      <td>2</td>\n",
              "      <td>4</td>\n",
              "      <td>aug</td>\n",
              "      <td>sun</td>\n",
              "      <td>81.6</td>\n",
              "      <td>56.7</td>\n",
              "      <td>665.6</td>\n",
              "      <td>1.9</td>\n",
              "      <td>21.9</td>\n",
              "      <td>71</td>\n",
              "      <td>5.8</td>\n",
              "      <td>0.0</td>\n",
              "      <td>54.29</td>\n",
              "    </tr>\n",
              "    <tr>\n",
              "      <th>514</th>\n",
              "      <td>7</td>\n",
              "      <td>4</td>\n",
              "      <td>aug</td>\n",
              "      <td>sun</td>\n",
              "      <td>81.6</td>\n",
              "      <td>56.7</td>\n",
              "      <td>665.6</td>\n",
              "      <td>1.9</td>\n",
              "      <td>21.2</td>\n",
              "      <td>70</td>\n",
              "      <td>6.7</td>\n",
              "      <td>0.0</td>\n",
              "      <td>11.16</td>\n",
              "    </tr>\n",
              "    <tr>\n",
              "      <th>515</th>\n",
              "      <td>1</td>\n",
              "      <td>4</td>\n",
              "      <td>aug</td>\n",
              "      <td>sat</td>\n",
              "      <td>94.4</td>\n",
              "      <td>146.0</td>\n",
              "      <td>614.7</td>\n",
              "      <td>11.3</td>\n",
              "      <td>25.6</td>\n",
              "      <td>42</td>\n",
              "      <td>4.0</td>\n",
              "      <td>0.0</td>\n",
              "      <td>0.00</td>\n",
              "    </tr>\n",
              "    <tr>\n",
              "      <th>516</th>\n",
              "      <td>6</td>\n",
              "      <td>3</td>\n",
              "      <td>nov</td>\n",
              "      <td>tue</td>\n",
              "      <td>79.5</td>\n",
              "      <td>3.0</td>\n",
              "      <td>106.7</td>\n",
              "      <td>1.1</td>\n",
              "      <td>11.8</td>\n",
              "      <td>31</td>\n",
              "      <td>4.5</td>\n",
              "      <td>0.0</td>\n",
              "      <td>0.00</td>\n",
              "    </tr>\n",
              "  </tbody>\n",
              "</table>\n",
              "<p>517 rows × 13 columns</p>\n",
              "</div>"
            ],
            "text/plain": [
              "     X  Y month  day  FFMC    DMC     DC   ISI  temp  RH  wind  rain   area\n",
              "0    7  5   mar  fri  86.2   26.2   94.3   5.1   8.2  51   6.7   0.0   0.00\n",
              "1    7  4   oct  tue  90.6   35.4  669.1   6.7  18.0  33   0.9   0.0   0.00\n",
              "2    7  4   oct  sat  90.6   43.7  686.9   6.7  14.6  33   1.3   0.0   0.00\n",
              "3    8  6   mar  fri  91.7   33.3   77.5   9.0   8.3  97   4.0   0.2   0.00\n",
              "4    8  6   mar  sun  89.3   51.3  102.2   9.6  11.4  99   1.8   0.0   0.00\n",
              "..  .. ..   ...  ...   ...    ...    ...   ...   ...  ..   ...   ...    ...\n",
              "512  4  3   aug  sun  81.6   56.7  665.6   1.9  27.8  32   2.7   0.0   6.44\n",
              "513  2  4   aug  sun  81.6   56.7  665.6   1.9  21.9  71   5.8   0.0  54.29\n",
              "514  7  4   aug  sun  81.6   56.7  665.6   1.9  21.2  70   6.7   0.0  11.16\n",
              "515  1  4   aug  sat  94.4  146.0  614.7  11.3  25.6  42   4.0   0.0   0.00\n",
              "516  6  3   nov  tue  79.5    3.0  106.7   1.1  11.8  31   4.5   0.0   0.00\n",
              "\n",
              "[517 rows x 13 columns]"
            ]
          },
          "metadata": {
            "tags": []
          },
          "execution_count": 1114
        }
      ]
    },
    {
      "cell_type": "markdown",
      "metadata": {
        "id": "iJJO_ewPgPM6",
        "colab_type": "text"
      },
      "source": [
        "Mapped:\n",
        "\n",
        "Weekdays as : 1\n",
        "\n",
        "Weekends as : 2"
      ]
    },
    {
      "cell_type": "code",
      "metadata": {
        "id": "AaVXc0ACbPmP",
        "colab_type": "code",
        "colab": {}
      },
      "source": [
        "df_numeric = df.copy()\n",
        "df_numeric['day'] = df_numeric['day'].map({'mon' : 1,'tue':1,'wed':1,'thu':1,'fri':1,'sat':2,'sun':2})"
      ],
      "execution_count": null,
      "outputs": []
    },
    {
      "cell_type": "markdown",
      "metadata": {
        "id": "l4wtQBegewSb",
        "colab_type": "text"
      },
      "source": [
        "Mapped :\n",
        "\n",
        "Winter months (december, january, february) as 1\n",
        "\n",
        "Autumn months (september, october, november) as 2\n",
        "\n",
        "Summer months (june, july, august) as 3\n",
        "\n",
        "Spring months (march,april,may) as 4\n"
      ]
    },
    {
      "cell_type": "code",
      "metadata": {
        "id": "kyKPIy2tcYTI",
        "colab_type": "code",
        "colab": {}
      },
      "source": [
        "df_numeric['month'] = df_numeric['month'].map({'dec':1,'jan':1,'feb':1,'mar':2,'apr':2,'may':2,'jun':3,'jul':3,'aug':3,'sep':4,'oct':4,'nov':4})"
      ],
      "execution_count": null,
      "outputs": []
    },
    {
      "cell_type": "markdown",
      "metadata": {
        "id": "OghdBoQ2pk_X",
        "colab_type": "text"
      },
      "source": [
        "For the first classifiers X,Y and FWI values are removed."
      ]
    },
    {
      "cell_type": "code",
      "metadata": {
        "id": "tCwc8fm_cZIW",
        "colab_type": "code",
        "colab": {}
      },
      "source": [
        "df3 = df_numeric.drop(['X', 'Y','FFMC','DMC','DC','ISI'], axis = 1) "
      ],
      "execution_count": null,
      "outputs": []
    },
    {
      "cell_type": "code",
      "metadata": {
        "id": "Ma3YxPI2e48I",
        "colab_type": "code",
        "colab": {
          "base_uri": "https://localhost:8080/",
          "height": 399
        },
        "outputId": "e0194821-761c-44b3-d5fb-b922f640621d"
      },
      "source": [
        "\n",
        "df3"
      ],
      "execution_count": null,
      "outputs": [
        {
          "output_type": "execute_result",
          "data": {
            "text/html": [
              "<div>\n",
              "<style scoped>\n",
              "    .dataframe tbody tr th:only-of-type {\n",
              "        vertical-align: middle;\n",
              "    }\n",
              "\n",
              "    .dataframe tbody tr th {\n",
              "        vertical-align: top;\n",
              "    }\n",
              "\n",
              "    .dataframe thead th {\n",
              "        text-align: right;\n",
              "    }\n",
              "</style>\n",
              "<table border=\"1\" class=\"dataframe\">\n",
              "  <thead>\n",
              "    <tr style=\"text-align: right;\">\n",
              "      <th></th>\n",
              "      <th>month</th>\n",
              "      <th>day</th>\n",
              "      <th>temp</th>\n",
              "      <th>RH</th>\n",
              "      <th>wind</th>\n",
              "      <th>rain</th>\n",
              "      <th>area</th>\n",
              "    </tr>\n",
              "  </thead>\n",
              "  <tbody>\n",
              "    <tr>\n",
              "      <th>0</th>\n",
              "      <td>2</td>\n",
              "      <td>1</td>\n",
              "      <td>8.2</td>\n",
              "      <td>51</td>\n",
              "      <td>6.7</td>\n",
              "      <td>0.0</td>\n",
              "      <td>0.00</td>\n",
              "    </tr>\n",
              "    <tr>\n",
              "      <th>1</th>\n",
              "      <td>4</td>\n",
              "      <td>1</td>\n",
              "      <td>18.0</td>\n",
              "      <td>33</td>\n",
              "      <td>0.9</td>\n",
              "      <td>0.0</td>\n",
              "      <td>0.00</td>\n",
              "    </tr>\n",
              "    <tr>\n",
              "      <th>2</th>\n",
              "      <td>4</td>\n",
              "      <td>2</td>\n",
              "      <td>14.6</td>\n",
              "      <td>33</td>\n",
              "      <td>1.3</td>\n",
              "      <td>0.0</td>\n",
              "      <td>0.00</td>\n",
              "    </tr>\n",
              "    <tr>\n",
              "      <th>3</th>\n",
              "      <td>2</td>\n",
              "      <td>1</td>\n",
              "      <td>8.3</td>\n",
              "      <td>97</td>\n",
              "      <td>4.0</td>\n",
              "      <td>0.2</td>\n",
              "      <td>0.00</td>\n",
              "    </tr>\n",
              "    <tr>\n",
              "      <th>4</th>\n",
              "      <td>2</td>\n",
              "      <td>2</td>\n",
              "      <td>11.4</td>\n",
              "      <td>99</td>\n",
              "      <td>1.8</td>\n",
              "      <td>0.0</td>\n",
              "      <td>0.00</td>\n",
              "    </tr>\n",
              "    <tr>\n",
              "      <th>...</th>\n",
              "      <td>...</td>\n",
              "      <td>...</td>\n",
              "      <td>...</td>\n",
              "      <td>...</td>\n",
              "      <td>...</td>\n",
              "      <td>...</td>\n",
              "      <td>...</td>\n",
              "    </tr>\n",
              "    <tr>\n",
              "      <th>512</th>\n",
              "      <td>3</td>\n",
              "      <td>2</td>\n",
              "      <td>27.8</td>\n",
              "      <td>32</td>\n",
              "      <td>2.7</td>\n",
              "      <td>0.0</td>\n",
              "      <td>6.44</td>\n",
              "    </tr>\n",
              "    <tr>\n",
              "      <th>513</th>\n",
              "      <td>3</td>\n",
              "      <td>2</td>\n",
              "      <td>21.9</td>\n",
              "      <td>71</td>\n",
              "      <td>5.8</td>\n",
              "      <td>0.0</td>\n",
              "      <td>54.29</td>\n",
              "    </tr>\n",
              "    <tr>\n",
              "      <th>514</th>\n",
              "      <td>3</td>\n",
              "      <td>2</td>\n",
              "      <td>21.2</td>\n",
              "      <td>70</td>\n",
              "      <td>6.7</td>\n",
              "      <td>0.0</td>\n",
              "      <td>11.16</td>\n",
              "    </tr>\n",
              "    <tr>\n",
              "      <th>515</th>\n",
              "      <td>3</td>\n",
              "      <td>2</td>\n",
              "      <td>25.6</td>\n",
              "      <td>42</td>\n",
              "      <td>4.0</td>\n",
              "      <td>0.0</td>\n",
              "      <td>0.00</td>\n",
              "    </tr>\n",
              "    <tr>\n",
              "      <th>516</th>\n",
              "      <td>4</td>\n",
              "      <td>1</td>\n",
              "      <td>11.8</td>\n",
              "      <td>31</td>\n",
              "      <td>4.5</td>\n",
              "      <td>0.0</td>\n",
              "      <td>0.00</td>\n",
              "    </tr>\n",
              "  </tbody>\n",
              "</table>\n",
              "<p>517 rows × 7 columns</p>\n",
              "</div>"
            ],
            "text/plain": [
              "     month  day  temp  RH  wind  rain   area\n",
              "0        2    1   8.2  51   6.7   0.0   0.00\n",
              "1        4    1  18.0  33   0.9   0.0   0.00\n",
              "2        4    2  14.6  33   1.3   0.0   0.00\n",
              "3        2    1   8.3  97   4.0   0.2   0.00\n",
              "4        2    2  11.4  99   1.8   0.0   0.00\n",
              "..     ...  ...   ...  ..   ...   ...    ...\n",
              "512      3    2  27.8  32   2.7   0.0   6.44\n",
              "513      3    2  21.9  71   5.8   0.0  54.29\n",
              "514      3    2  21.2  70   6.7   0.0  11.16\n",
              "515      3    2  25.6  42   4.0   0.0   0.00\n",
              "516      4    1  11.8  31   4.5   0.0   0.00\n",
              "\n",
              "[517 rows x 7 columns]"
            ]
          },
          "metadata": {
            "tags": []
          },
          "execution_count": 1118
        }
      ]
    },
    {
      "cell_type": "markdown",
      "metadata": {
        "id": "Q2E63duAptK1",
        "colab_type": "text"
      },
      "source": [
        "Data is splitted into X and Y data for training."
      ]
    },
    {
      "cell_type": "code",
      "metadata": {
        "id": "faUWBx8q-VRw",
        "colab_type": "code",
        "colab": {}
      },
      "source": [
        "df4 = df3.copy()\n",
        "Y_data = df3['area']\n",
        "X_data = df3.drop(columns=['area'])"
      ],
      "execution_count": null,
      "outputs": []
    },
    {
      "cell_type": "markdown",
      "metadata": {
        "id": "W0SQhDNJpx6o",
        "colab_type": "text"
      },
      "source": [
        "Our data consists is mostly 0 and close to 0 values so we need to scale the data.\n",
        "\n",
        "Without changing the position(ascending-descending) every data is filled into [0,1]."
      ]
    },
    {
      "cell_type": "code",
      "metadata": {
        "id": "1Ef_H2HT-XEp",
        "colab_type": "code",
        "colab": {}
      },
      "source": [
        "df4 = df4.sort_values('area')\n",
        "\n",
        "df4['area'] = df4['area']*10\n",
        "for i in range(len(df4)):  \n",
        "  if (df4.iloc[i,-1] > 2785 and df4.iloc[i,-1] < 2786):\n",
        "    df4.iloc[i,-1] = 2200\n",
        "  if (df4.iloc[i,-1] > 7000 and df4.iloc[i,-1] < 8000):\n",
        "    df4.iloc[i,-1] = 2210\n",
        "  if (df4.iloc[i,-1] > 8000):\n",
        "    df4.iloc[i,-1] = 2220\n",
        "\n",
        "for i in range(len(df4)):  \n",
        "  df4.iloc[i,-1] = df4.iloc[i,-1]/2300\n",
        "  df4.iloc[i,-1] = df4.iloc[i,-1]\n",
        "\n",
        "\n",
        "Y_data = df4.iloc[:,-1]"
      ],
      "execution_count": null,
      "outputs": []
    },
    {
      "cell_type": "code",
      "metadata": {
        "id": "F0AyliLn-obe",
        "colab_type": "code",
        "colab": {
          "base_uri": "https://localhost:8080/",
          "height": 230
        },
        "outputId": "73a381f5-ca70-43d3-8d02-d7081cc4d3a2"
      },
      "source": [
        "Y_data"
      ],
      "execution_count": null,
      "outputs": [
        {
          "output_type": "execute_result",
          "data": {
            "text/plain": [
              "0      0.000000\n",
              "298    0.000000\n",
              "299    0.000000\n",
              "300    0.000000\n",
              "302    0.000000\n",
              "         ...   \n",
              "236    0.873652\n",
              "237    0.925565\n",
              "479    0.956522\n",
              "415    0.960870\n",
              "238    0.965217\n",
              "Name: area, Length: 517, dtype: float64"
            ]
          },
          "metadata": {
            "tags": []
          },
          "execution_count": 1121
        }
      ]
    },
    {
      "cell_type": "markdown",
      "metadata": {
        "id": "_RUJkXp_yibw",
        "colab_type": "text"
      },
      "source": [
        "X axis represents the index of each data while Y axis is target value."
      ]
    },
    {
      "cell_type": "code",
      "metadata": {
        "id": "8ZbFBzByU1NW",
        "colab_type": "code",
        "colab": {
          "base_uri": "https://localhost:8080/",
          "height": 284
        },
        "outputId": "015c8029-3bad-44ab-ca1a-79af5959138d"
      },
      "source": [
        "plt.plot(range(len(Y_data)),Y_data)"
      ],
      "execution_count": null,
      "outputs": [
        {
          "output_type": "execute_result",
          "data": {
            "text/plain": [
              "[<matplotlib.lines.Line2D at 0x7f50fc963160>]"
            ]
          },
          "metadata": {
            "tags": []
          },
          "execution_count": 1122
        },
        {
          "output_type": "display_data",
          "data": {
            "image/png": "[encoded data removed]",
            "text/plain": [
              "<Figure size 432x288 with 1 Axes>"
            ]
          },
          "metadata": {
            "tags": [],
            "needs_background": "light"
          }
        }
      ]
    },
    {
      "cell_type": "markdown",
      "metadata": {
        "id": "1W5Qku8ey_M0",
        "colab_type": "text"
      },
      "source": [
        "Used the kmeans algorithm to split data into 5 clusters."
      ]
    },
    {
      "cell_type": "code",
      "metadata": {
        "id": "vcFBwDhvgNpM",
        "colab_type": "code",
        "colab": {}
      },
      "source": [
        "Y_data_val = Y_data.values.reshape(-1,1)\n",
        "kmeans = KMeans(n_clusters=5, random_state=0).fit(Y_data_val)"
      ],
      "execution_count": null,
      "outputs": []
    },
    {
      "cell_type": "code",
      "metadata": {
        "id": "WsZqYL6WnMUw",
        "colab_type": "code",
        "colab": {
          "base_uri": "https://localhost:8080/",
          "height": 106
        },
        "outputId": "fb8e6cb5-a2f6-435b-aefd-79b54e17984b"
      },
      "source": [
        "kmeans.cluster_centers_"
      ],
      "execution_count": null,
      "outputs": [
        {
          "output_type": "execute_result",
          "data": {
            "text/plain": [
              "array([[0.0030944 ],\n",
              "       [0.86404348],\n",
              "       [0.34703986],\n",
              "       [0.04306994],\n",
              "       [0.15334903]])"
            ]
          },
          "metadata": {
            "tags": []
          },
          "execution_count": 1124
        }
      ]
    },
    {
      "cell_type": "code",
      "metadata": {
        "id": "bvI5kKvOpcQd",
        "colab_type": "code",
        "colab": {
          "base_uri": "https://localhost:8080/",
          "height": 444
        },
        "outputId": "335042a8-5f07-43b5-caac-654fb1f30751"
      },
      "source": [
        "kmeans.labels_"
      ],
      "execution_count": null,
      "outputs": [
        {
          "output_type": "execute_result",
          "data": {
            "text/plain": [
              "array([0, 0, 0, 0, 0, 0, 0, 0, 0, 0, 0, 0, 0, 0, 0, 0, 0, 0, 0, 0, 0, 0,\n",
              "       0, 0, 0, 0, 0, 0, 0, 0, 0, 0, 0, 0, 0, 0, 0, 0, 0, 0, 0, 0, 0, 0,\n",
              "       0, 0, 0, 0, 0, 0, 0, 0, 0, 0, 0, 0, 0, 0, 0, 0, 0, 0, 0, 0, 0, 0,\n",
              "       0, 0, 0, 0, 0, 0, 0, 0, 0, 0, 0, 0, 0, 0, 0, 0, 0, 0, 0, 0, 0, 0,\n",
              "       0, 0, 0, 0, 0, 0, 0, 0, 0, 0, 0, 0, 0, 0, 0, 0, 0, 0, 0, 0, 0, 0,\n",
              "       0, 0, 0, 0, 0, 0, 0, 0, 0, 0, 0, 0, 0, 0, 0, 0, 0, 0, 0, 0, 0, 0,\n",
              "       0, 0, 0, 0, 0, 0, 0, 0, 0, 0, 0, 0, 0, 0, 0, 0, 0, 0, 0, 0, 0, 0,\n",
              "       0, 0, 0, 0, 0, 0, 0, 0, 0, 0, 0, 0, 0, 0, 0, 0, 0, 0, 0, 0, 0, 0,\n",
              "       0, 0, 0, 0, 0, 0, 0, 0, 0, 0, 0, 0, 0, 0, 0, 0, 0, 0, 0, 0, 0, 0,\n",
              "       0, 0, 0, 0, 0, 0, 0, 0, 0, 0, 0, 0, 0, 0, 0, 0, 0, 0, 0, 0, 0, 0,\n",
              "       0, 0, 0, 0, 0, 0, 0, 0, 0, 0, 0, 0, 0, 0, 0, 0, 0, 0, 0, 0, 0, 0,\n",
              "       0, 0, 0, 0, 0, 0, 0, 0, 0, 0, 0, 0, 0, 0, 0, 0, 0, 0, 0, 0, 0, 0,\n",
              "       0, 0, 0, 0, 0, 0, 0, 0, 0, 0, 0, 0, 0, 0, 0, 0, 0, 0, 0, 0, 0, 0,\n",
              "       0, 0, 0, 0, 0, 0, 0, 0, 0, 0, 0, 0, 0, 0, 0, 0, 0, 0, 0, 0, 0, 0,\n",
              "       0, 0, 0, 0, 0, 0, 0, 0, 0, 0, 0, 0, 0, 0, 0, 0, 0, 0, 0, 0, 0, 0,\n",
              "       0, 0, 0, 0, 0, 0, 0, 0, 0, 0, 0, 0, 0, 0, 0, 0, 0, 0, 0, 0, 0, 0,\n",
              "       0, 0, 0, 0, 0, 0, 0, 0, 0, 0, 0, 0, 0, 0, 0, 0, 3, 3, 3, 3, 3, 3,\n",
              "       3, 3, 3, 3, 3, 3, 3, 3, 3, 3, 3, 3, 3, 3, 3, 3, 3, 3, 3, 3, 3, 3,\n",
              "       3, 3, 3, 3, 3, 3, 3, 3, 3, 3, 3, 3, 3, 3, 3, 3, 3, 3, 3, 3, 3, 3,\n",
              "       3, 3, 3, 3, 3, 3, 3, 3, 3, 3, 3, 3, 3, 3, 3, 3, 3, 3, 3, 3, 3, 3,\n",
              "       3, 3, 3, 3, 3, 3, 3, 3, 3, 3, 3, 3, 3, 3, 3, 3, 3, 3, 3, 3, 4, 4,\n",
              "       4, 4, 4, 4, 4, 4, 4, 4, 4, 4, 4, 4, 4, 4, 4, 4, 4, 4, 4, 4, 4, 4,\n",
              "       4, 4, 4, 4, 4, 4, 4, 4, 4, 4, 4, 4, 2, 2, 2, 2, 2, 2, 2, 2, 2, 2,\n",
              "       2, 2, 1, 1, 1, 1, 1, 1, 1, 1, 1], dtype=int32)"
            ]
          },
          "metadata": {
            "tags": []
          },
          "execution_count": 1125
        }
      ]
    },
    {
      "cell_type": "markdown",
      "metadata": {
        "id": "rIiNcJ5ZzT5L",
        "colab_type": "text"
      },
      "source": [
        "Trying the data for 10 and 100 clusters."
      ]
    },
    {
      "cell_type": "code",
      "metadata": {
        "id": "4y9L-JOyzeHw",
        "colab_type": "code",
        "colab": {}
      },
      "source": [
        "kmeans_trial_1 = df4.copy()\n",
        "kmeans_trial_2 = df4.copy()\n",
        "\n",
        "Y_kmeans_10 = kmeans_trial_1['area']\n",
        "Y_kmeans_100 = kmeans_trial_2['area']\n",
        "\n",
        "\n",
        "Y_kmeans_10 = (Y_kmeans_10).values.reshape(-1, 1)\n",
        "Y_kmeans_100 = (Y_kmeans_100).values.reshape(-1, 1)\n",
        "kmeans_10 = KMeans(n_clusters=10, random_state=0).fit(Y_kmeans_10)\n",
        "kmeans_100 = KMeans(n_clusters=100, random_state=0).fit(Y_kmeans_100)\n"
      ],
      "execution_count": null,
      "outputs": []
    },
    {
      "cell_type": "markdown",
      "metadata": {
        "id": "JEbzY9jMz_jV",
        "colab_type": "text"
      },
      "source": [
        "Lets create models using these kmeans labels."
      ]
    },
    {
      "cell_type": "code",
      "metadata": {
        "id": "FriE0iT_z6WD",
        "colab_type": "code",
        "colab": {
          "base_uri": "https://localhost:8080/",
          "height": 141
        },
        "outputId": "22f26af6-cc85-4ab4-d49c-1c8f4f2ee6fd"
      },
      "source": [
        "logistic_regressor_kmeans = LogisticRegression(solver='sag' , max_iter=20000)\n",
        "\n",
        "score_kmeans_5 = cross_val_score(logistic_regressor_kmeans, X_data, kmeans.labels_, cv=5)\n",
        "print(\" Kmeans with 5 , Accuracy: %0.4f (+/- %0.2f)\" % (score_kmeans_5.mean(), score_kmeans_5.std() * 2))\n",
        "\n",
        "score_kmeans_10 = cross_val_score(logistic_regressor_kmeans, X_data, kmeans_10.labels_, cv=5)\n",
        "print(\"Kmeans with 10 , Accuracy: %0.4f (+/- %0.2f)\" % (score_kmeans_10.mean(), score_kmeans_10.std() * 2))\n",
        "\n",
        "score_kmeans_100 = cross_val_score(logistic_regressor_kmeans, X_data, kmeans_100.labels_, cv=5)\n",
        "print(\"Kmeans with 100 , Accuracy: %0.4f (+/- %0.2f)\" % (score_kmeans_100.mean(), score_kmeans_100.std() * 2))\n",
        "\n"
      ],
      "execution_count": null,
      "outputs": [
        {
          "output_type": "stream",
          "text": [
            " Kmeans with 5 , Accuracy: 0.6944 (+/- 0.05)\n"
          ],
          "name": "stdout"
        },
        {
          "output_type": "stream",
          "text": [
            "/usr/local/lib/python3.6/dist-packages/sklearn/model_selection/_split.py:667: UserWarning: The least populated class in y has only 2 members, which is less than n_splits=5.\n",
            "  % (min_groups, self.n_splits)), UserWarning)\n"
          ],
          "name": "stderr"
        },
        {
          "output_type": "stream",
          "text": [
            "Kmeans with 10 , Accuracy: 0.6595 (+/- 0.02)\n"
          ],
          "name": "stdout"
        },
        {
          "output_type": "stream",
          "text": [
            "/usr/local/lib/python3.6/dist-packages/sklearn/model_selection/_split.py:667: UserWarning: The least populated class in y has only 1 members, which is less than n_splits=5.\n",
            "  % (min_groups, self.n_splits)), UserWarning)\n"
          ],
          "name": "stderr"
        },
        {
          "output_type": "stream",
          "text": [
            "Kmeans with 100 , Accuracy: 0.4739 (+/- 0.03)\n"
          ],
          "name": "stdout"
        }
      ]
    },
    {
      "cell_type": "markdown",
      "metadata": {
        "id": "DX7Otj0F4r5E",
        "colab_type": "text"
      },
      "source": [
        "As seen above 5 clusters returns the highest accuracy.\n",
        "\n",
        "We will label our target values with the clusters centers using fuzzyvalues.\n",
        "Fuzzied value for a target with 0.50000 can be found with x = (0.5-closest lower point)/(closest upper point - closest lower point) , y = (closest upper point - 0.5)/(closest upper point - closest lower point)\n",
        "Which ever one has the bigger value which means bigger membership degree will be used as target class."
      ]
    },
    {
      "cell_type": "code",
      "metadata": {
        "id": "wSLjb8eUM8yl",
        "colab_type": "code",
        "colab": {}
      },
      "source": [
        "for i in range(len(df4)):  \n",
        "\n",
        "  if (df4.iloc[i,-1] <= 0.0030944 ):\n",
        "    df4.iloc[i,-1] = \"verylow\"\n",
        "\n",
        "\n",
        "  elif (df4.iloc[i,-1] > 0.0030944 and df4.iloc[i,-1] < 0.04306994):\n",
        "    valminuslower = df4.iloc[i,-1] - 0.0030944\n",
        "    upminuslow = 0.04306994 - 0.0030944\n",
        "    lowermembership = valminuslower/upminuslow\n",
        "    upminusval = 0.04306994 - df4.iloc[i,-1]\n",
        "    uppermembership = upminusval/upminuslow\n",
        "    if (uppermembership > lowermembership):\n",
        "      df4.iloc[i,-1] = \"low\"\n",
        "    else :\n",
        "      df4.iloc[i,-1] = \"verylow\"\n",
        "\n",
        "\n",
        "  elif (df4.iloc[i,-1] >= 0.04306994 and df4.iloc[i,-1] < 0.15334903):\n",
        "    valminuslower = df4.iloc[i,-1] - 0.04306994\n",
        "    upminuslow = 0.15334903 - 0.04306994\n",
        "    lowermembership = valminuslower/upminuslow\n",
        "    upminusval = 0.15334903 - df4.iloc[i,-1]\n",
        "    uppermembership = upminusval/upminuslow\n",
        "    if (uppermembership > lowermembership):\n",
        "      df4.iloc[i,-1] = \"medium\"\n",
        "    else :\n",
        "      df4.iloc[i,-1] = \"low\"\n",
        "\n",
        "\n",
        "  elif (df4.iloc[i,-1] >= 0.15334903 and df4.iloc[i,-1] < 0.34703986):\n",
        "    valminuslower = df4.iloc[i,-1] - 0.15334903\n",
        "    upminuslow = 0.34703986 - 0.15334903\n",
        "    lowermembership = valminuslower/upminuslow\n",
        "    upminusval = 0.34703986 - df4.iloc[i,-1]\n",
        "    uppermembership = upminusval/upminuslow\n",
        "    if (uppermembership > lowermembership):\n",
        "      df4.iloc[i,-1] = \"high\"\n",
        "    else :\n",
        "      df4.iloc[i,-1] = \"medium\"\n",
        "\n",
        "    \n",
        "  elif (df4.iloc[i,-1] >= 0.34703986 and df4.iloc[i,-1] < 0.86404348):\n",
        "    valminuslower = df4.iloc[i,-1] - 0.34703986\n",
        "    upminuslow = 0.86404348 - 0.34703986\n",
        "    lowermembership = valminuslower/upminuslow\n",
        "    upminusval = 0.86404348 - df4.iloc[i,-1]\n",
        "    uppermembership = upminusval/upminuslow\n",
        "    if (uppermembership > lowermembership):\n",
        "      df4.iloc[i,-1] = \"veryhigh\"\n",
        "    else :\n",
        "      df4.iloc[i,-1] = \"high\"\n",
        "  \n",
        "  elif (df4.iloc[i,-1] >= 0.86404348):\n",
        "    df4.iloc[i,-1] = \"veryhigh\""
      ],
      "execution_count": null,
      "outputs": []
    },
    {
      "cell_type": "markdown",
      "metadata": {
        "id": "SaiJUlgi731M",
        "colab_type": "text"
      },
      "source": [
        "How fuzzy values and 5 centroids effected our data."
      ]
    },
    {
      "cell_type": "code",
      "metadata": {
        "id": "sXUyYQuEGNZS",
        "colab_type": "code",
        "colab": {
          "base_uri": "https://localhost:8080/",
          "height": 248
        },
        "outputId": "34e22a5c-c92d-4a23-cbf3-6a363d4873bb"
      },
      "source": [
        "x = df4['area']\n",
        "counts_array = np.array(np.unique(x, return_counts=True)).T\n",
        "\n",
        "x1 = kmeans.labels_\n",
        "counts_array1 = np.array(np.unique(x1, return_counts=True)).T\n",
        "print(\"Counts with fuzzy values : \")\n",
        "print(counts_array)\n",
        "print(\"---------------------------------\")\n",
        "print(\"Counts with kmeans labeling where 0 = verylow , 1 = veryhigh , 2 = high , 3 = low , 4 = medium : \")\n",
        "print(counts_array1)"
      ],
      "execution_count": null,
      "outputs": [
        {
          "output_type": "stream",
          "text": [
            "Counts with fuzzy values : \n",
            "[['high' 20]\n",
            " ['low' 123]\n",
            " ['medium' 46]\n",
            " ['veryhigh' 11]\n",
            " ['verylow' 317]]\n",
            "---------------------------------\n",
            "Counts with kmeans labeling where 0 = verylow , 1 = veryhigh , 2 = high , 3 = low , 4 = medium : \n",
            "[[  0 368]\n",
            " [  1   9]\n",
            " [  2  12]\n",
            " [  3  92]\n",
            " [  4  36]]\n"
          ],
          "name": "stdout"
        }
      ]
    },
    {
      "cell_type": "code",
      "metadata": {
        "id": "R84vyKH3jKac",
        "colab_type": "code",
        "colab": {}
      },
      "source": [
        "df3['area'] = df4['area']"
      ],
      "execution_count": null,
      "outputs": []
    },
    {
      "cell_type": "markdown",
      "metadata": {
        "id": "De6FR0Vn8DML",
        "colab_type": "text"
      },
      "source": [
        "df_numeric will be used in models later. "
      ]
    },
    {
      "cell_type": "code",
      "metadata": {
        "id": "8-pLt-KZs2Sv",
        "colab_type": "code",
        "colab": {}
      },
      "source": [
        "df_numeric['area'] = df4['area']\n",
        "\n",
        "\n",
        "Y_labels = df3['area']\n",
        "X_numeric = df3.drop('area',axis = 1)\n",
        "\n",
        "X_numeric_for_XY = X_numeric.copy()#For models which will be created later\n",
        "Y_labels_for_XY = Y_labels.copy()#For models which will be created later\n"
      ],
      "execution_count": null,
      "outputs": []
    },
    {
      "cell_type": "markdown",
      "metadata": {
        "id": "oZhV3ZjsBDnO",
        "colab_type": "text"
      },
      "source": [
        "X and Y values are shuffled for better understanding in cross validation"
      ]
    },
    {
      "cell_type": "code",
      "metadata": {
        "id": "PE_qbAnKBTFw",
        "colab_type": "code",
        "colab": {}
      },
      "source": [
        "X_numeric, Y_labels = shuffle(X_numeric, Y_labels)"
      ],
      "execution_count": null,
      "outputs": []
    },
    {
      "cell_type": "markdown",
      "metadata": {
        "id": "jh2cDw-_BbG7",
        "colab_type": "text"
      },
      "source": [
        "KNN classifier with 3 neighbors selected(trial and error)."
      ]
    },
    {
      "cell_type": "code",
      "metadata": {
        "id": "KgGRUgDRsSf9",
        "colab_type": "code",
        "colab": {
          "base_uri": "https://localhost:8080/",
          "height": 35
        },
        "outputId": "ff9826c2-bf31-4ee6-92f2-53ec0bc1f2bd"
      },
      "source": [
        "neigh = KNeighborsClassifier(n_neighbors=5)\n",
        "score_neigh = cross_val_score(neigh, X_numeric, Y_labels, cv=5)\n",
        "print(\"Accuracy: %0.2f (+/- %0.2f)\" % (score_neigh.mean(), score_neigh.std() * 2))"
      ],
      "execution_count": null,
      "outputs": [
        {
          "output_type": "stream",
          "text": [
            "Accuracy: 0.51 (+/- 0.03)\n"
          ],
          "name": "stdout"
        }
      ]
    },
    {
      "cell_type": "markdown",
      "metadata": {
        "id": "Ie5-RsG-GNbU",
        "colab_type": "text"
      },
      "source": [
        "Support vector machine with linear kernel."
      ]
    },
    {
      "cell_type": "code",
      "metadata": {
        "id": "vRVMMy_wuqQc",
        "colab_type": "code",
        "colab": {
          "base_uri": "https://localhost:8080/",
          "height": 35
        },
        "outputId": "06e16b33-5b80-4158-e62c-979f8f1fa94f"
      },
      "source": [
        "svm_linear = svm.SVC(kernel='linear', C=1)\n",
        "score_svm = cross_val_score(svm_linear, X_numeric, Y_labels, cv=5)\n",
        "print(\"Accuracy: %0.4f (+/- %0.2f)\" % (score_svm.mean(), score_svm.std() * 2))"
      ],
      "execution_count": null,
      "outputs": [
        {
          "output_type": "stream",
          "text": [
            "Accuracy: 0.6131 (+/- 0.00)\n"
          ],
          "name": "stdout"
        }
      ]
    },
    {
      "cell_type": "markdown",
      "metadata": {
        "id": "xpfe5bHWGURk",
        "colab_type": "text"
      },
      "source": [
        "Support vector machine with polynomial kernel."
      ]
    },
    {
      "cell_type": "code",
      "metadata": {
        "id": "wAA37QESwe3_",
        "colab_type": "code",
        "colab": {
          "base_uri": "https://localhost:8080/",
          "height": 35
        },
        "outputId": "a657bcf6-a858-48bd-c422-20c910b308d4"
      },
      "source": [
        "svm_poly = svm.SVC(kernel='poly', C=1)\n",
        "score_svm_poly = cross_val_score(svm_poly, X_numeric, Y_labels, cv=5)\n",
        "print(\"Accuracy: %0.4f (+/- %0.2f)\" % (score_svm_poly.mean(), score_svm_poly.std() * 2))"
      ],
      "execution_count": null,
      "outputs": [
        {
          "output_type": "stream",
          "text": [
            "Accuracy: 0.6131 (+/- 0.00)\n"
          ],
          "name": "stdout"
        }
      ]
    },
    {
      "cell_type": "markdown",
      "metadata": {
        "id": "ffX7LulNHyyh",
        "colab_type": "text"
      },
      "source": [
        "MLP classifier , uses Stochastic gradient descent as solver , learning rate is not constant , iteration limit is picked 20000 because it shouldn't end until local minima."
      ]
    },
    {
      "cell_type": "code",
      "metadata": {
        "id": "0mcjSlS0LVO8",
        "colab_type": "code",
        "colab": {
          "base_uri": "https://localhost:8080/",
          "height": 35
        },
        "outputId": "ede35097-b4c5-44df-ebd1-83e9ae9d0643"
      },
      "source": [
        "mlp = MLPClassifier(max_iter=20000 , learning_rate='adaptive' ,solver = 'sgd')\n",
        "score_mlp = cross_val_score(mlp, X_numeric, Y_labels, cv=5)\n",
        "print(\"Accuracy: %0.4f (+/- %0.2f)\" % (score_mlp.mean(), score_mlp.std() * 2))"
      ],
      "execution_count": null,
      "outputs": [
        {
          "output_type": "stream",
          "text": [
            "Accuracy: 0.6151 (+/- 0.01)\n"
          ],
          "name": "stdout"
        }
      ]
    },
    {
      "cell_type": "markdown",
      "metadata": {
        "id": "mG4LYxXiIlLk",
        "colab_type": "text"
      },
      "source": [
        "Gaussian Process Classifier."
      ]
    },
    {
      "cell_type": "code",
      "metadata": {
        "id": "J5PUt6Mwh-Er",
        "colab_type": "code",
        "colab": {
          "base_uri": "https://localhost:8080/",
          "height": 35
        },
        "outputId": "bb8ef7b6-fee4-45bf-d7ad-efffb1ff6f8b"
      },
      "source": [
        "from sklearn.gaussian_process import GaussianProcessClassifier\n",
        "rbfn = GaussianProcessClassifier()\n",
        "score_rbfn = cross_val_score(rbfn, X_numeric, Y_labels, cv=5)\n",
        "print(\"Accuracy: %0.4f (+/- %0.2f)\" % (score_rbfn.mean(), score_rbfn.std() * 2))"
      ],
      "execution_count": null,
      "outputs": [
        {
          "output_type": "stream",
          "text": [
            "Accuracy: 0.4933 (+/- 0.06)\n"
          ],
          "name": "stdout"
        }
      ]
    },
    {
      "cell_type": "markdown",
      "metadata": {
        "id": "FVyQvDd8Ip6o",
        "colab_type": "text"
      },
      "source": [
        "Our data is somewhat linear so logistic regression with stochastic average gradient(it will return great results with multiclass classification) is a good choice."
      ]
    },
    {
      "cell_type": "code",
      "metadata": {
        "id": "rTB_REMSMSU9",
        "colab_type": "code",
        "colab": {
          "base_uri": "https://localhost:8080/",
          "height": 35
        },
        "outputId": "a08aeb4e-33c8-426e-c3ee-8944ea0e3219"
      },
      "source": [
        "logreg = LogisticRegression(solver='sag' , max_iter=20000)\n",
        "score_log = cross_val_score(logreg, X_numeric, Y_labels, cv=5)\n",
        "print(\"Accuracy: %0.4f (+/- %0.2f)\" % (score_log.mean(), score_log.std() * 2))"
      ],
      "execution_count": null,
      "outputs": [
        {
          "output_type": "stream",
          "text": [
            "Accuracy: 0.6151 (+/- 0.01)\n"
          ],
          "name": "stdout"
        }
      ]
    },
    {
      "cell_type": "markdown",
      "metadata": {
        "id": "i7Ywx6_0I2If",
        "colab_type": "text"
      },
      "source": [
        "All models are fitted with the data."
      ]
    },
    {
      "cell_type": "code",
      "metadata": {
        "id": "oL76oHa9z1IL",
        "colab_type": "code",
        "colab": {
          "base_uri": "https://localhost:8080/",
          "height": 106
        },
        "outputId": "01f8d4f9-3777-49a7-d66a-5b66cace7bdc"
      },
      "source": [
        "svm_poly.fit(X_numeric,Y_labels)\n",
        "neigh.fit(X_numeric,Y_labels)\n",
        "mlp.fit(X_numeric,Y_labels)\n",
        "rbfn.fit(X_numeric,Y_labels)\n",
        "logreg.fit(X_numeric,Y_labels)\n",
        "#print(mlp.coefs_)"
      ],
      "execution_count": null,
      "outputs": [
        {
          "output_type": "execute_result",
          "data": {
            "text/plain": [
              "LogisticRegression(C=1.0, class_weight=None, dual=False, fit_intercept=True,\n",
              "                   intercept_scaling=1, l1_ratio=None, max_iter=20000,\n",
              "                   multi_class='auto', n_jobs=None, penalty='l2',\n",
              "                   random_state=None, solver='sag', tol=0.0001, verbose=0,\n",
              "                   warm_start=False)"
            ]
          },
          "metadata": {
            "tags": []
          },
          "execution_count": 1139
        }
      ]
    },
    {
      "cell_type": "markdown",
      "metadata": {
        "id": "MyVDZn9eobAw",
        "colab_type": "text"
      },
      "source": [
        "Logistic Regression and Multilayer Perceptron classifier can fit a data like this better than others so expect better results from them.\n",
        "\n",
        "You can try the models here yourself.\n",
        "\n",
        "After choosing each attribute from the menu above press runtime -> runall\n"
      ]
    },
    {
      "cell_type": "code",
      "metadata": {
        "id": "k3bzxCDByMNS",
        "colab_type": "code",
        "cellView": "form",
        "colab": {
          "base_uri": "https://localhost:8080/",
          "height": 159
        },
        "outputId": "b415a69c-e83d-4620-b584-49f5b4e1fa75"
      },
      "source": [
        " \n",
        " \n",
        "#@title Regression Predictions for Burned Area of Forest in a Forest Fire \n",
        "Month = 'August' #@param [\"January\", \"February\", \"March\" ,\"April\",\"May\",\"June\",\"July\",\"August\",\"September\",\"October\",\"November\",\"December\"]\n",
        "DayofWeek = 'Saturday' #@param [\"Monday\", \"Tuesday\", \"Wednesday\",\"Thursday\",\"Friday\",\"Saturday\",\"Sunday\"]\n",
        "Celcius_Temperature =  50#@param {type:\"number\"}\n",
        "Relative_Humidity = 0 #@param {type:\"number\"}\n",
        "Wind =  100#@param {type:\"number\"}\n",
        "Rain =  0#@param {type:\"number\"}\n",
        "#ModelType = 'KNN classifier' #@param [\"MultilayerPerceptronClassifier\", \"KNN classifier\", \"SVM classifier with poly kernel\",\"Gaussian Process Classifier\"]\n",
        "\n",
        "MonthNum = 0\n",
        "#Changing months to numbers as mapped before\n",
        "if (Month == 'December' or Month == 'January' or Month == 'February'):\n",
        "  MonthNum = 1\n",
        "elif (Month == 'March' or Month == 'April' or Month == 'May'):\n",
        "  MonthNum = 2\n",
        "elif (Month == 'June' or Month == 'July' or Month == 'August'):\n",
        "  MonthNum = 3\n",
        "elif (Month == 'September' or Month == 'October' or Month == 'November'):\n",
        "  MonthNum = 4\n",
        "\n",
        "DayofWeekNum = 0\n",
        "#Changing days to numbers for weekend or weekdays\n",
        "if (DayofWeek == \"Monday\" or DayofWeek == \"Tuesday\" or DayofWeek == \"Wednesday\" or DayofWeek == \"Thursday\" or DayofWeek == \"Friday\" ):\n",
        "  DayofWeekNum = 1\n",
        "elif (DayofWeek == \"Saturday\" or DayofWeek == \"Sunday\"):\n",
        "  DayofWeekNum = 2  \n",
        "\n",
        "value_array = [MonthNum,DayofWeekNum,Celcius_Temperature,Relative_Humidity,Wind,Rain]\n",
        "value_array = np.array(value_array).reshape(1,-1)\n",
        "\n",
        "\n",
        "area_burned_class_svm = svm_poly.predict(value_array)\n",
        "area_burned_class_knn = neigh.predict(value_array)\n",
        "area_burned_class_mlp = mlp.predict(value_array)\n",
        "area_burned_class_rbfn = rbfn.predict(value_array) \n",
        "area_burned_class_logreg = logreg.predict(value_array)\n",
        "\n",
        "print(\"Predictions with high accuracy. Expect these : \")\n",
        "print(\"Predicted status for a forest fire from logreg is :\",area_burned_class_logreg)\n",
        "print(\"Predicted status for a forest fire from mlp is :\",area_burned_class_mlp)\n",
        "print(\"\")\n",
        "print(\"Other models predictions are mostly very low due to the data : \")\n",
        "print(\"Predicted status for a forest fire from svm is :\",area_burned_class_svm)\n",
        "print(\"Predicted status for a forest fire from knn is :\",area_burned_class_knn)\n",
        "print(\"Predicted status for a forest fire from rbfn is :\",area_burned_class_rbfn)\n",
        "\n"
      ],
      "execution_count": null,
      "outputs": [
        {
          "output_type": "stream",
          "text": [
            "Predictions with high accuracy. Expect these : \n",
            "Predicted status for a forest fire from logreg is : ['medium']\n",
            "Predicted status for a forest fire from mlp is : ['veryhigh']\n",
            "\n",
            "Other models predictions are mostly very low due to the data : \n",
            "Predicted status for a forest fire from svm is : ['verylow']\n",
            "Predicted status for a forest fire from knn is : ['verylow']\n",
            "Predicted status for a forest fire from rbfn is : ['verylow']\n"
          ],
          "name": "stdout"
        }
      ]
    },
    {
      "cell_type": "markdown",
      "metadata": {
        "id": "vKc82Vkt4zp2",
        "colab_type": "text"
      },
      "source": [
        "Let's create a model using X and Y values too. "
      ]
    },
    {
      "cell_type": "code",
      "metadata": {
        "id": "irS4eB0e0cHX",
        "colab_type": "code",
        "colab": {}
      },
      "source": [
        "X_numeric_for_XY['X'] = df_numeric['X']\n",
        "X_numeric_for_XY['Y'] = df_numeric['Y']\n",
        "#Y_labels_for_XY will be used. It contains unshuffled target values."
      ],
      "execution_count": null,
      "outputs": []
    },
    {
      "cell_type": "markdown",
      "metadata": {
        "id": "d3EL7p2TJbDC",
        "colab_type": "text"
      },
      "source": [
        "Same as above but with X and Y values : MLP classifier , uses Stochastic gradient descent as solver , learning rate is not constant , iteration limit is picked 20000 because it shouldn't end until local minima."
      ]
    },
    {
      "cell_type": "code",
      "metadata": {
        "id": "FF3q9PTC6IQ8",
        "colab_type": "code",
        "colab": {
          "base_uri": "https://localhost:8080/",
          "height": 35
        },
        "outputId": "6508cd90-dc37-4434-cbaa-03fd6d187cc9"
      },
      "source": [
        "mlp_XY = MLPClassifier(max_iter=20000 , learning_rate='adaptive' ,solver = 'sgd')\n",
        "score_mlp_XY = cross_val_score(mlp_XY, X_numeric_for_XY, Y_labels_for_XY, cv=5)\n",
        "print(\"Accuracy: %0.4f (+/- %0.2f)\" % (score_mlp_XY.mean(), score_mlp_XY.std() * 2))"
      ],
      "execution_count": null,
      "outputs": [
        {
          "output_type": "stream",
          "text": [
            "Accuracy: 0.6093 (+/- 0.01)\n"
          ],
          "name": "stdout"
        }
      ]
    },
    {
      "cell_type": "markdown",
      "metadata": {
        "id": "_-qpQfbDJkvu",
        "colab_type": "text"
      },
      "source": [
        "Same as above with X and Y values in features : Support vector machine with polynomial kernel"
      ]
    },
    {
      "cell_type": "code",
      "metadata": {
        "id": "FMKXARwO7lV7",
        "colab_type": "code",
        "colab": {
          "base_uri": "https://localhost:8080/",
          "height": 35
        },
        "outputId": "a8c39f31-c351-42e5-eed7-96d781498e59"
      },
      "source": [
        "svm_poly_XY = svm.SVC(kernel='poly', C=1)\n",
        "score_svm_poly_XY = cross_val_score(svm_poly_XY, X_numeric_for_XY, Y_labels_for_XY, cv=5)\n",
        "print(\"Accuracy: %0.4f (+/- %0.2f)\" % (score_svm_poly_XY.mean(), score_svm_poly_XY.std() * 2))"
      ],
      "execution_count": null,
      "outputs": [
        {
          "output_type": "stream",
          "text": [
            "Accuracy: 0.6131 (+/- 0.00)\n"
          ],
          "name": "stdout"
        }
      ]
    },
    {
      "cell_type": "markdown",
      "metadata": {
        "id": "7RP9hbh7JqiQ",
        "colab_type": "text"
      },
      "source": [
        "Same as above with X and Y values in features : K Nearest Neigbors Classifier with K = 3."
      ]
    },
    {
      "cell_type": "code",
      "metadata": {
        "id": "o7YC4YTy9evs",
        "colab_type": "code",
        "colab": {
          "base_uri": "https://localhost:8080/",
          "height": 35
        },
        "outputId": "4d3d9052-75c7-403f-d5e3-d8a001603360"
      },
      "source": [
        "neigh_XY = KNeighborsClassifier(n_neighbors=3)\n",
        "score_neigh_XY = cross_val_score(neigh_XY, X_numeric_for_XY, Y_labels_for_XY, cv=5)\n",
        "print(\"Accuracy: %0.4f (+/- %0.2f)\" % (score_neigh_XY.mean(), score_neigh_XY.std() * 2))"
      ],
      "execution_count": null,
      "outputs": [
        {
          "output_type": "stream",
          "text": [
            "Accuracy: 0.4894 (+/- 0.03)\n"
          ],
          "name": "stdout"
        }
      ]
    },
    {
      "cell_type": "markdown",
      "metadata": {
        "id": "DorIGcZ5J2kq",
        "colab_type": "text"
      },
      "source": [
        "Same as above but with X and Y values in features."
      ]
    },
    {
      "cell_type": "code",
      "metadata": {
        "id": "PqryW5WXLE9p",
        "colab_type": "code",
        "colab": {
          "base_uri": "https://localhost:8080/",
          "height": 35
        },
        "outputId": "f4085bf5-0444-4844-d5c6-80f12d4b7e97"
      },
      "source": [
        "log_XY = LogisticRegression(solver='sag' , max_iter=20000)\n",
        "score_log_XY = cross_val_score(log_XY_FWI, X_numeric_for_XY, Y_labels_for_XY, cv=5)\n",
        "print(\"Accuracy: %0.4f (+/- %0.2f)\" % (score_log_XY.mean(), score_log_XY.std() * 2))"
      ],
      "execution_count": null,
      "outputs": [
        {
          "output_type": "stream",
          "text": [
            "Accuracy: 0.6112 (+/- 0.01)\n"
          ],
          "name": "stdout"
        }
      ]
    },
    {
      "cell_type": "markdown",
      "metadata": {
        "id": "zr-8lqwDKDkJ",
        "colab_type": "text"
      },
      "source": [
        "All models are fitted."
      ]
    },
    {
      "cell_type": "code",
      "metadata": {
        "id": "QoTbd4l-7mfe",
        "colab_type": "code",
        "colab": {
          "base_uri": "https://localhost:8080/",
          "height": 106
        },
        "outputId": "da953b80-aec9-411f-8911-640b21802437"
      },
      "source": [
        "mlp_XY.fit(X_numeric_for_XY,Y_labels_for_XY)\n",
        "svm_poly_XY.fit(X_numeric_for_XY,Y_labels_for_XY)\n",
        "neigh_XY.fit(X_numeric_for_XY,Y_labels_for_XY)\n",
        "log_XY.fit(X_numeric_for_XY,Y_labels_for_XY)"
      ],
      "execution_count": null,
      "outputs": [
        {
          "output_type": "execute_result",
          "data": {
            "text/plain": [
              "LogisticRegression(C=1.0, class_weight=None, dual=False, fit_intercept=True,\n",
              "                   intercept_scaling=1, l1_ratio=None, max_iter=20000,\n",
              "                   multi_class='auto', n_jobs=None, penalty='l2',\n",
              "                   random_state=None, solver='sag', tol=0.0001, verbose=0,\n",
              "                   warm_start=False)"
            ]
          },
          "metadata": {
            "tags": []
          },
          "execution_count": 1146
        }
      ]
    },
    {
      "cell_type": "markdown",
      "metadata": {
        "id": "cEz6msTrKGtg",
        "colab_type": "text"
      },
      "source": [
        "You can try the models here. Select values of attributes then from runtime -> runall"
      ]
    },
    {
      "cell_type": "code",
      "metadata": {
        "id": "Zk7ziYMF6A-r",
        "colab_type": "code",
        "cellView": "form",
        "colab": {
          "base_uri": "https://localhost:8080/",
          "height": 141
        },
        "outputId": "c0d1505b-f7a3-452a-e69f-5a50257e8791"
      },
      "source": [
        " \n",
        " \n",
        "#@title Regression Predictions for Burned Area of Forest in a Forest Fire \n",
        "X = '5' #@param [1,2,3,4,5,6,7,8,9]\n",
        "Y = '5' #@param [1,2,3,4,5,6,7,8,9]\n",
        "Month = 'August' #@param [\"January\", \"February\", \"March\" ,\"April\",\"May\",\"June\",\"July\",\"August\",\"September\",\"October\",\"November\",\"December\"]\n",
        "DayofWeek = 'Saturday' #@param [\"Monday\", \"Tuesday\", \"Wednesday\",\"Thursday\",\"Friday\",\"Saturday\",\"Sunday\"]\n",
        "Celcius_Temperature =  50#@param {type:\"number\"}\n",
        "Relative_Humidity = 0 #@param {type:\"number\"}\n",
        "Wind =  100#@param {type:\"number\"}\n",
        "Rain =  0#@param {type:\"number\"}\n",
        "#ModelType = 'KNN classifier' #@param [\"MultilayerPerceptronClassifier\", \"KNN classifier\", \"SVM classifier with poly kernel\",\"Gaussian Process Classifier\"]\n",
        "\n",
        "MonthNum = 0\n",
        "#Changing months to numbers as mapped before\n",
        "if (Month == 'December' or Month == 'January' or Month == 'February'):\n",
        "  MonthNum = 1\n",
        "elif (Month == 'March' or Month == 'April' or Month == 'May'):\n",
        "  MonthNum = 2\n",
        "elif (Month == 'June' or Month == 'July' or Month == 'August'):\n",
        "  MonthNum = 3\n",
        "elif (Month == 'September' or Month == 'October' or Month == 'November'):\n",
        "  MonthNum = 4\n",
        "\n",
        "DayofWeekNum = 0\n",
        "#Changing days to numbers for weekend or weekdays\n",
        "if (DayofWeek == \"Monday\" or DayofWeek == \"Tuesday\" or DayofWeek == \"Wednesday\" or DayofWeek == \"Thursday\" or DayofWeek == \"Friday\" ):\n",
        "  DayofWeekNum = 1\n",
        "elif (DayofWeek == \"Saturday\" or DayofWeek == \"Sunday\"):\n",
        "  DayofWeekNum = 2  \n",
        "\n",
        "value_array_XY = [MonthNum,DayofWeekNum,Celcius_Temperature,Relative_Humidity,Wind,Rain,int(X),int(Y)]\n",
        "value_array_XY = np.array(value_array_XY).reshape(1,-1)\n",
        "\n",
        "area_burned_class_svm_XY = svm_poly_XY.predict(value_array_XY)\n",
        "area_burned_class_knn_XY = neigh_XY.predict(value_array_XY)\n",
        "area_burned_class_mlp_XY = mlp_XY.predict(value_array_XY) \n",
        "area_burned_class_logreg_XY = log_XY.predict(value_array_XY)\n",
        "\n",
        "print(\"Predictions with high accuracy. Expect these : \")\n",
        "print(\"Predicted status for a forest fire from logreg is :\",area_burned_class_logreg_XY)\n",
        "print(\"Predicted status for a forest fire from mlp is :\",area_burned_class_mlp_XY)\n",
        "print(\"\")\n",
        "print(\"Other models predictions are mostly very low due to the data : \")\n",
        "print(\"Predicted status for a forest fire from svm is :\",area_burned_class_svm_XY)\n",
        "print(\"Predicted status for a forest fire from knn is :\",area_burned_class_knn_XY)\n",
        "\n"
      ],
      "execution_count": null,
      "outputs": [
        {
          "output_type": "stream",
          "text": [
            "Predictions with high accuracy. Expect these : \n",
            "Predicted status for a forest fire from logreg is : ['medium']\n",
            "Predicted status for a forest fire from mlp is : ['verylow']\n",
            "\n",
            "Other models predictions are mostly very low due to the data : \n",
            "Predicted status for a forest fire from svm is : ['verylow']\n",
            "Predicted status for a forest fire from knn is : ['verylow']\n"
          ],
          "name": "stdout"
        }
      ]
    },
    {
      "cell_type": "markdown",
      "metadata": {
        "id": "apzyrKyxFzS_",
        "colab_type": "text"
      },
      "source": [
        "Lets create models with XY and FWI values."
      ]
    },
    {
      "cell_type": "code",
      "metadata": {
        "id": "SKvjweBaFufd",
        "colab_type": "code",
        "colab": {}
      },
      "source": [
        "X_numeric_XY_FWI = X_numeric_for_XY.copy() \n",
        "#Y_labels_for_XY values are unshuffled they will be used"
      ],
      "execution_count": null,
      "outputs": []
    },
    {
      "cell_type": "markdown",
      "metadata": {
        "id": "XbcTS5psKmVQ",
        "colab_type": "text"
      },
      "source": [
        "FWI models added to X."
      ]
    },
    {
      "cell_type": "code",
      "metadata": {
        "id": "JoRfJVXsKoCc",
        "colab_type": "code",
        "colab": {}
      },
      "source": [
        "X_numeric_XY_FWI['FFMC'] = df_numeric['FFMC']\n",
        "X_numeric_XY_FWI['DMC'] = df_numeric['DMC']\n",
        "X_numeric_XY_FWI['DC'] = df_numeric['DC']\n",
        "X_numeric_XY_FWI['ISI'] = df_numeric['ISI']"
      ],
      "execution_count": null,
      "outputs": []
    },
    {
      "cell_type": "markdown",
      "metadata": {
        "id": "Q5Fsz7_IKqVD",
        "colab_type": "text"
      },
      "source": [
        "Our data is in form of :"
      ]
    },
    {
      "cell_type": "code",
      "metadata": {
        "id": "7GkTodO6AZWp",
        "colab_type": "code",
        "colab": {
          "base_uri": "https://localhost:8080/",
          "height": 194
        },
        "outputId": "1c194c29-d759-411a-c58a-da6e3f9056fc"
      },
      "source": [
        "X_numeric_XY_FWI.head()"
      ],
      "execution_count": null,
      "outputs": [
        {
          "output_type": "execute_result",
          "data": {
            "text/html": [
              "<div>\n",
              "<style scoped>\n",
              "    .dataframe tbody tr th:only-of-type {\n",
              "        vertical-align: middle;\n",
              "    }\n",
              "\n",
              "    .dataframe tbody tr th {\n",
              "        vertical-align: top;\n",
              "    }\n",
              "\n",
              "    .dataframe thead th {\n",
              "        text-align: right;\n",
              "    }\n",
              "</style>\n",
              "<table border=\"1\" class=\"dataframe\">\n",
              "  <thead>\n",
              "    <tr style=\"text-align: right;\">\n",
              "      <th></th>\n",
              "      <th>month</th>\n",
              "      <th>day</th>\n",
              "      <th>temp</th>\n",
              "      <th>RH</th>\n",
              "      <th>wind</th>\n",
              "      <th>rain</th>\n",
              "      <th>X</th>\n",
              "      <th>Y</th>\n",
              "      <th>FFMC</th>\n",
              "      <th>DMC</th>\n",
              "      <th>DC</th>\n",
              "      <th>ISI</th>\n",
              "    </tr>\n",
              "  </thead>\n",
              "  <tbody>\n",
              "    <tr>\n",
              "      <th>0</th>\n",
              "      <td>2</td>\n",
              "      <td>1</td>\n",
              "      <td>8.2</td>\n",
              "      <td>51</td>\n",
              "      <td>6.7</td>\n",
              "      <td>0.0</td>\n",
              "      <td>7</td>\n",
              "      <td>5</td>\n",
              "      <td>86.2</td>\n",
              "      <td>26.2</td>\n",
              "      <td>94.3</td>\n",
              "      <td>5.1</td>\n",
              "    </tr>\n",
              "    <tr>\n",
              "      <th>1</th>\n",
              "      <td>4</td>\n",
              "      <td>1</td>\n",
              "      <td>18.0</td>\n",
              "      <td>33</td>\n",
              "      <td>0.9</td>\n",
              "      <td>0.0</td>\n",
              "      <td>7</td>\n",
              "      <td>4</td>\n",
              "      <td>90.6</td>\n",
              "      <td>35.4</td>\n",
              "      <td>669.1</td>\n",
              "      <td>6.7</td>\n",
              "    </tr>\n",
              "    <tr>\n",
              "      <th>2</th>\n",
              "      <td>4</td>\n",
              "      <td>2</td>\n",
              "      <td>14.6</td>\n",
              "      <td>33</td>\n",
              "      <td>1.3</td>\n",
              "      <td>0.0</td>\n",
              "      <td>7</td>\n",
              "      <td>4</td>\n",
              "      <td>90.6</td>\n",
              "      <td>43.7</td>\n",
              "      <td>686.9</td>\n",
              "      <td>6.7</td>\n",
              "    </tr>\n",
              "    <tr>\n",
              "      <th>3</th>\n",
              "      <td>2</td>\n",
              "      <td>1</td>\n",
              "      <td>8.3</td>\n",
              "      <td>97</td>\n",
              "      <td>4.0</td>\n",
              "      <td>0.2</td>\n",
              "      <td>8</td>\n",
              "      <td>6</td>\n",
              "      <td>91.7</td>\n",
              "      <td>33.3</td>\n",
              "      <td>77.5</td>\n",
              "      <td>9.0</td>\n",
              "    </tr>\n",
              "    <tr>\n",
              "      <th>4</th>\n",
              "      <td>2</td>\n",
              "      <td>2</td>\n",
              "      <td>11.4</td>\n",
              "      <td>99</td>\n",
              "      <td>1.8</td>\n",
              "      <td>0.0</td>\n",
              "      <td>8</td>\n",
              "      <td>6</td>\n",
              "      <td>89.3</td>\n",
              "      <td>51.3</td>\n",
              "      <td>102.2</td>\n",
              "      <td>9.6</td>\n",
              "    </tr>\n",
              "  </tbody>\n",
              "</table>\n",
              "</div>"
            ],
            "text/plain": [
              "   month  day  temp  RH  wind  rain  X  Y  FFMC   DMC     DC  ISI\n",
              "0      2    1   8.2  51   6.7   0.0  7  5  86.2  26.2   94.3  5.1\n",
              "1      4    1  18.0  33   0.9   0.0  7  4  90.6  35.4  669.1  6.7\n",
              "2      4    2  14.6  33   1.3   0.0  7  4  90.6  43.7  686.9  6.7\n",
              "3      2    1   8.3  97   4.0   0.2  8  6  91.7  33.3   77.5  9.0\n",
              "4      2    2  11.4  99   1.8   0.0  8  6  89.3  51.3  102.2  9.6"
            ]
          },
          "metadata": {
            "tags": []
          },
          "execution_count": 1150
        }
      ]
    },
    {
      "cell_type": "markdown",
      "metadata": {
        "id": "CismoPANKvuV",
        "colab_type": "text"
      },
      "source": [
        "Same as above but with X,Y and FWI values : MLP classifier , uses Stochastic gradient descent as solver , learning rate is not constant , iteration limit is picked 20000 because it shouldn't end until local minima."
      ]
    },
    {
      "cell_type": "code",
      "metadata": {
        "id": "XFNT53aiI-bI",
        "colab_type": "code",
        "colab": {
          "base_uri": "https://localhost:8080/",
          "height": 35
        },
        "outputId": "2b57ab56-68b3-4546-e6fa-f59f36a253fb"
      },
      "source": [
        "mlp_XY_FWI = MLPClassifier(max_iter=20000 , learning_rate='adaptive' ,solver = 'sgd')\n",
        "score_mlp_XY_FWI = cross_val_score(mlp_XY_FWI, X_numeric_XY_FWI, Y_labels_for_XY, cv=5)\n",
        "print(\"Accuracy: %0.4f (+/- %0.2f)\" % (score_mlp_XY_FWI.mean(), score_mlp_XY_FWI.std() * 2))"
      ],
      "execution_count": null,
      "outputs": [
        {
          "output_type": "stream",
          "text": [
            "Accuracy: 0.5044 (+/- 0.41)\n"
          ],
          "name": "stdout"
        }
      ]
    },
    {
      "cell_type": "markdown",
      "metadata": {
        "id": "RFG965gaLGLZ",
        "colab_type": "text"
      },
      "source": [
        "Same as above but with FWI values : Support Vector Machine Classifier with polynomial kernel."
      ]
    },
    {
      "cell_type": "code",
      "metadata": {
        "id": "lJnUGfZyJCiM",
        "colab_type": "code",
        "colab": {
          "base_uri": "https://localhost:8080/",
          "height": 35
        },
        "outputId": "6b3ab64d-1b0f-4001-f9f9-a74ce0b0958a"
      },
      "source": [
        "svm_poly_XY_FWI = svm.SVC(kernel='poly', C=1)\n",
        "score_svm_poly_XY_FWI = cross_val_score(svm_poly_XY_FWI, X_numeric_XY_FWI, Y_labels_for_XY, cv=5)\n",
        "print(\"Accuracy: %0.4f (+/- %0.2f)\" % (score_svm_poly_XY_FWI.mean(), score_svm_poly_XY_FWI.std() * 2))"
      ],
      "execution_count": null,
      "outputs": [
        {
          "output_type": "stream",
          "text": [
            "Accuracy: 0.6131 (+/- 0.00)\n"
          ],
          "name": "stdout"
        }
      ]
    },
    {
      "cell_type": "markdown",
      "metadata": {
        "id": "A0c4eQYgLPnu",
        "colab_type": "text"
      },
      "source": [
        "Same as above but with FWI values : Logistic Regression Classifier with Stochastic Average Gradient solver."
      ]
    },
    {
      "cell_type": "code",
      "metadata": {
        "id": "XOt0eHfH6tDq",
        "colab_type": "code",
        "colab": {
          "base_uri": "https://localhost:8080/",
          "height": 35
        },
        "outputId": "c10f73f7-8d20-4ac0-c5a5-af888c030a41"
      },
      "source": [
        "log_XY_FWI = LogisticRegression(solver='sag' , max_iter=20000)\n",
        "score_log_XY_FWI = cross_val_score(log_XY_FWI, X_numeric_XY_FWI, Y_labels_for_XY, cv=5)\n",
        "print(\"Accuracy: %0.4f (+/- %0.2f)\" % (score_log_XY_FWI.mean(), score_log_XY_FWI.std() * 2))"
      ],
      "execution_count": null,
      "outputs": [
        {
          "output_type": "stream",
          "text": [
            "Accuracy: 0.5957 (+/- 0.04)\n"
          ],
          "name": "stdout"
        }
      ]
    },
    {
      "cell_type": "markdown",
      "metadata": {
        "id": "-SXPtYh9Lt1g",
        "colab_type": "text"
      },
      "source": [
        "X with FWI values too and KNN classifier with K = 3."
      ]
    },
    {
      "cell_type": "code",
      "metadata": {
        "id": "HznJcx_76dPP",
        "colab_type": "code",
        "colab": {
          "base_uri": "https://localhost:8080/",
          "height": 35
        },
        "outputId": "e5757ccf-9ea4-4cb2-c680-98b00ec9e2f6"
      },
      "source": [
        "neigh_XY_FWI = KNeighborsClassifier(n_neighbors=3)\n",
        "score_neigh_XY_FWI = cross_val_score(neigh_XY_FWI, X_numeric_XY_FWI, Y_labels_for_XY, cv=5)\n",
        "print(\"Accuracy: %0.4f (+/- %0.2f)\" % (score_neigh_XY_FWI.mean(), score_neigh_XY_FWI.std() * 2))"
      ],
      "execution_count": null,
      "outputs": [
        {
          "output_type": "stream",
          "text": [
            "Accuracy: 0.4523 (+/- 0.17)\n"
          ],
          "name": "stdout"
        }
      ]
    },
    {
      "cell_type": "markdown",
      "metadata": {
        "id": "TkF311pDL0Go",
        "colab_type": "text"
      },
      "source": [
        "All models are fitted."
      ]
    },
    {
      "cell_type": "code",
      "metadata": {
        "id": "YUICS50dJWLi",
        "colab_type": "code",
        "colab": {
          "base_uri": "https://localhost:8080/",
          "height": 106
        },
        "outputId": "ee5c859a-87e8-47f0-eb2b-35350e5b17cf"
      },
      "source": [
        "mlp_XY_FWI.fit(X_numeric_XY_FWI,Y_labels_for_XY)\n",
        "neigh_XY_FWI.fit(X_numeric_XY_FWI,Y_labels_for_XY)\n",
        "svm_poly_XY_FWI.fit(X_numeric_XY_FWI,Y_labels_for_XY)\n",
        "log_XY_FWI.fit(X_numeric_XY_FWI,Y_labels_for_XY)"
      ],
      "execution_count": null,
      "outputs": [
        {
          "output_type": "execute_result",
          "data": {
            "text/plain": [
              "LogisticRegression(C=1.0, class_weight=None, dual=False, fit_intercept=True,\n",
              "                   intercept_scaling=1, l1_ratio=None, max_iter=20000,\n",
              "                   multi_class='auto', n_jobs=None, penalty='l2',\n",
              "                   random_state=None, solver='sag', tol=0.0001, verbose=0,\n",
              "                   warm_start=False)"
            ]
          },
          "metadata": {
            "tags": []
          },
          "execution_count": 1155
        }
      ]
    },
    {
      "cell_type": "markdown",
      "metadata": {
        "id": "ELQMuqxRL2EW",
        "colab_type": "text"
      },
      "source": [
        "Here is the predicter that uses all the features in the data.\n",
        "Pick the values of attributes and click runall from runtime button in the menu top of the screen."
      ]
    },
    {
      "cell_type": "code",
      "metadata": {
        "id": "SwiVruuz6d2i",
        "colab_type": "code",
        "cellView": "form",
        "colab": {
          "base_uri": "https://localhost:8080/",
          "height": 141
        },
        "outputId": "cb94663e-5a73-42f5-a287-a53d0d258afc"
      },
      "source": [
        "\n",
        "#@title Regression Predictions for Burned Area of Forest in a Forest Fire \n",
        "FFMC = 0#@param {type:\"number\"}\n",
        "DMC = 0#@param {type:\"number\"}\n",
        "DC = 0#@param {type:\"number\"}\n",
        "ISI = 0#@param {type:\"number\"}\n",
        "X = '5' #@param [1,2,3,4,5,6,7,8,9]\n",
        "Y = '5' #@param [1,2,3,4,5,6,7,8,9]\n",
        "Month = 'August' #@param [\"January\", \"February\", \"March\" ,\"April\",\"May\",\"June\",\"July\",\"August\",\"September\",\"October\",\"November\",\"December\"]\n",
        "DayofWeek = 'Saturday' #@param [\"Monday\", \"Tuesday\", \"Wednesday\",\"Thursday\",\"Friday\",\"Saturday\",\"Sunday\"]\n",
        "Celcius_Temperature =  50#@param {type:\"number\"}\n",
        "Relative_Humidity = 0 #@param {type:\"number\"}\n",
        "Wind =  100#@param {type:\"number\"}\n",
        "Rain =  0#@param {type:\"number\"}\n",
        "#ModelType = 'KNN classifier' #@param [\"MultilayerPerceptronClassifier\", \"KNN classifier\", \"SVM classifier with poly kernel\",\"Gaussian Process Classifier\"]\n",
        "\n",
        "MonthNum = 0\n",
        "#Changing months to numbers as mapped before\n",
        "if (Month == 'December' or Month == 'January' or Month == 'February'):\n",
        "  MonthNum = 1\n",
        "elif (Month == 'March' or Month == 'April' or Month == 'May'):\n",
        "  MonthNum = 2\n",
        "elif (Month == 'June' or Month == 'July' or Month == 'August'):\n",
        "  MonthNum = 3\n",
        "elif (Month == 'September' or Month == 'October' or Month == 'November'):\n",
        "  MonthNum = 4\n",
        "\n",
        "DayofWeekNum = 0\n",
        "#Changing days to numbers for weekend or weekdays\n",
        "if (DayofWeek == \"Monday\" or DayofWeek == \"Tuesday\" or DayofWeek == \"Wednesday\" or DayofWeek == \"Thursday\" or DayofWeek == \"Friday\" ):\n",
        "  DayofWeekNum = 1\n",
        "elif (DayofWeek == \"Saturday\" or DayofWeek == \"Sunday\"):\n",
        "  DayofWeekNum = 2  \n",
        "\n",
        "value_array_XY_FWI = [MonthNum,DayofWeekNum,Celcius_Temperature,Relative_Humidity,Wind,Rain,int(X),int(Y),FFMC,DMC,DC,ISI]\n",
        "value_array_XY_FWI = np.array(value_array_XY_FWI).reshape(1,-1)\n",
        "\n",
        "\n",
        "area_burned_class_svm_XY_FWI = svm_poly_XY_FWI.predict(value_array_XY_FWI)\n",
        "area_burned_class_knn_XY_FWI = neigh_XY_FWI.predict(value_array_XY_FWI)\n",
        "area_burned_class_mlp_XY_FWI = mlp_XY_FWI.predict(value_array_XY_FWI) \n",
        "area_burned_class_logreg_XY_FWI = log_XY_FWI.predict(value_array_XY_FWI)\n",
        "\n",
        "print(\"Predictions with high accuracy. Expect these : \")\n",
        "print(\"Predicted status for a forest fire from logreg is :\",area_burned_class_logreg_XY_FWI)\n",
        "print(\"Predicted status for a forest fire from mlp is :\",area_burned_class_mlp_XY_FWI)\n",
        "print(\"\")\n",
        "print(\"Other models predictions are mostly very low due to the data : \")\n",
        "print(\"Predicted status for a forest fire from svm is :\",area_burned_class_svm_XY_FWI)\n",
        "print(\"Predicted status for a forest fire from knn is :\",area_burned_class_knn_XY_FWI)"
      ],
      "execution_count": null,
      "outputs": [
        {
          "output_type": "stream",
          "text": [
            "Predictions with high accuracy. Expect these : \n",
            "Predicted status for a forest fire from logreg is : ['veryhigh']\n",
            "Predicted status for a forest fire from mlp is : ['verylow']\n",
            "\n",
            "Other models predictions are mostly very low due to the data : \n",
            "Predicted status for a forest fire from svm is : ['verylow']\n",
            "Predicted status for a forest fire from knn is : ['verylow']\n"
          ],
          "name": "stdout"
        }
      ]
    }
  ]
}