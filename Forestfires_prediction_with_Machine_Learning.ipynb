{
  "nbformat": 4,
  "nbformat_minor": 0,
  "metadata": {
    "colab": {
      "name": "Forestfires prediction with Machine Learning.ipynb",
      "provenance": [],
      "collapsed_sections": [],
      "authorship_tag": "ABX9TyMXZSkH2rKtns9Y+Zh9cU0O",
      "include_colab_link": true
    },
    "kernelspec": {
      "name": "python3",
      "display_name": "Python 3"
    }
  },
  "cells": [
    {
      "cell_type": "markdown",
      "metadata": {
        "id": "view-in-github",
        "colab_type": "text"
      },
      "source": [
        "<a href=\"https://colab.research.google.com/github/mertkaya13/Forestfires-Prediction-with-Machine-Learning/blob/master/Forestfires_prediction_with_Machine_Learning.ipynb\" target=\"_parent\"><img src=\"https://colab.research.google.com/assets/colab-badge.svg\" alt=\"Open In Colab\"/></a>"
      ]
    },
    {
      "cell_type": "markdown",
      "metadata": {
        "id": "x6l0xObIDGKt",
        "colab_type": "text"
      },
      "source": [
        "This project aims to predict forestfires with the help of Machine Learning by given estimated values of temperature,amount of rain,speed of the wind etc.\n",
        "\n",
        "There are predicters created for various usages.\n",
        "\n",
        "Which would help us predict a forestfire according to the dataset.\n",
        "I have created four different versions by the following steps you can see below.\n",
        "\n",
        "First predicter uses values that are more common for everday people such as temperature,amount of rain,speed of wind as such.\n",
        "These values can be gathered from various websites or other places(eg. Newspapers) because they are predicted daily,weekly,monthly by meteorology companies.\n",
        "\n",
        "Second predicter is a more complicated version which uses FWI values.\n",
        "More info about FWI can be found in ' https://www.nwcg.gov/publications/pms437/cffdrs/fire-weather-index-system '. We will not use the X and Y values for a general prediction of a forest fire.\n",
        "\n",
        "Third predicter uses all of the features except FWI values of the dataset. This predicter can be used to achieve the amount of fire as hectars on a part of the forest.It can be used to understand importance of the part that forestfire happens(Middle of the forest may be more flammable than other parts.)\n",
        "\n",
        "Fourth Predicter uses all of the features except the categorical ones.\n",
        "\n",
        "After creating these predictors it became clear that categorical predictor would be more useful and effective. We can use the dayofweek and month values.\n",
        "To create a predictor like this one amount of hectars value must be turned into a categorical one.:\n",
        "\n",
        "0-10 : really small Forest Fire or no Forest Fire\n",
        "\n",
        "10-45: Small Forest Fire\n",
        "\n",
        "45-150 : Medium Sized Forest Fire\n",
        "\n",
        "150-300 : Large Sized Forest Fire\n",
        "\n",
        "Numbers bigger than 300 : Really Large Forest Fire \n",
        "\n",
        "\n",
        "\n",
        "\n"
      ]
    },
    {
      "cell_type": "markdown",
      "metadata": {
        "id": "l0L0eY1HFenH",
        "colab_type": "text"
      },
      "source": [
        "First of all we need to show the source of our dataset.\n",
        "\n",
        "\n",
        "Citation Request:\n",
        "  This dataset is public available for research. The details are described in [Cortez and Morais, 2007]. \n",
        "  Please include this citation if you plan to use this database:\n",
        "\n",
        "  P. Cortez and A. Morais. A Data Mining Approach to Predict Forest Fires using Meteorological Data. \n",
        "  In J. Neves, M. F. Santos and J. Machado Eds., New Trends in Artificial Intelligence, \n",
        "  Proceedings of the 13th EPIA 2007 - Portuguese Conference on Artificial Intelligence, December, \n",
        "  Guimaraes, Portugal, pp. 512-523, 2007. APPIA, ISBN-13 978-989-95618-0-9. \n",
        "  Available at: http://www.dsi.uminho.pt/~pcortez/fires.pdf\n",
        "\n",
        "\n",
        "\n",
        "  Our dataset is combined from two different datasets.\n",
        "  Former is data collected from Montesinhonatural park.\n",
        "  The data used in the experiments was collected from January 2000 to    December 2003. It containes month,day of week, spatial location within a 9×9 grid and the six components of the FWI systemand the total burned area.\n",
        "  Latter contains information about the weather at that moment.\n",
        "\n",
        "  "
      ]
    },
    {
      "cell_type": "markdown",
      "metadata": {
        "id": "NqM_orwkI28k",
        "colab_type": "text"
      },
      "source": [
        "First we need to import pandas to use our dataset.\n",
        "Numpy for various calculations and scikit-learn for regression."
      ]
    },
    {
      "cell_type": "code",
      "metadata": {
        "id": "IcWr4z7tBq_2",
        "colab_type": "code",
        "colab": {
          "base_uri": "https://localhost:8080/",
          "height": 70
        },
        "outputId": "450eaae5-4882-48dc-ad11-913858c99172"
      },
      "source": [
        "import pandas as pd\n",
        "import numpy as np\n",
        "from sklearn.linear_model import LinearRegression\n",
        "from sklearn.linear_model import Lasso\n",
        "from sklearn.linear_model import Ridge\n",
        "import matplotlib.pyplot as plt  \n",
        "from sklearn.model_selection import train_test_split\n",
        "from sklearn import metrics\n",
        "import seaborn as sns\n",
        "%matplotlib inline"
      ],
      "execution_count": null,
      "outputs": [
        {
          "output_type": "stream",
          "text": [
            "/usr/local/lib/python3.6/dist-packages/statsmodels/tools/_testing.py:19: FutureWarning: pandas.util.testing is deprecated. Use the functions in the public API at pandas.testing instead.\n",
            "  import pandas.util.testing as tm\n"
          ],
          "name": "stderr"
        }
      ]
    },
    {
      "cell_type": "markdown",
      "metadata": {
        "id": "ot8XBPn0JJ7R",
        "colab_type": "text"
      },
      "source": [
        "Then we use pandas to get the .csv file (Which is the data of dataset) from the link."
      ]
    },
    {
      "cell_type": "code",
      "metadata": {
        "id": "rjH8uKDYCWtC",
        "colab_type": "code",
        "colab": {}
      },
      "source": [
        "url = 'https://archive.ics.uci.edu/ml/machine-learning-databases/forest-fires/forestfires.csv'\n",
        "df = pd.read_csv(url)"
      ],
      "execution_count": null,
      "outputs": []
    },
    {
      "cell_type": "markdown",
      "metadata": {
        "id": "RsgBnWkFJgDC",
        "colab_type": "text"
      },
      "source": [
        "This is how our dataset looks like."
      ]
    },
    {
      "cell_type": "code",
      "metadata": {
        "id": "TXrxp-YfCatg",
        "colab_type": "code",
        "colab": {
          "base_uri": "https://localhost:8080/",
          "height": 402
        },
        "outputId": "706a515d-d673-4237-fdf0-2a3e89aed9ba"
      },
      "source": [
        "df"
      ],
      "execution_count": null,
      "outputs": [
        {
          "output_type": "execute_result",
          "data": {
            "text/html": [
              "<div>\n",
              "<style scoped>\n",
              "    .dataframe tbody tr th:only-of-type {\n",
              "        vertical-align: middle;\n",
              "    }\n",
              "\n",
              "    .dataframe tbody tr th {\n",
              "        vertical-align: top;\n",
              "    }\n",
              "\n",
              "    .dataframe thead th {\n",
              "        text-align: right;\n",
              "    }\n",
              "</style>\n",
              "<table border=\"1\" class=\"dataframe\">\n",
              "  <thead>\n",
              "    <tr style=\"text-align: right;\">\n",
              "      <th></th>\n",
              "      <th>X</th>\n",
              "      <th>Y</th>\n",
              "      <th>month</th>\n",
              "      <th>day</th>\n",
              "      <th>FFMC</th>\n",
              "      <th>DMC</th>\n",
              "      <th>DC</th>\n",
              "      <th>ISI</th>\n",
              "      <th>temp</th>\n",
              "      <th>RH</th>\n",
              "      <th>wind</th>\n",
              "      <th>rain</th>\n",
              "      <th>area</th>\n",
              "    </tr>\n",
              "  </thead>\n",
              "  <tbody>\n",
              "    <tr>\n",
              "      <th>0</th>\n",
              "      <td>7</td>\n",
              "      <td>5</td>\n",
              "      <td>mar</td>\n",
              "      <td>fri</td>\n",
              "      <td>86.2</td>\n",
              "      <td>26.2</td>\n",
              "      <td>94.3</td>\n",
              "      <td>5.1</td>\n",
              "      <td>8.2</td>\n",
              "      <td>51</td>\n",
              "      <td>6.7</td>\n",
              "      <td>0.0</td>\n",
              "      <td>0.00</td>\n",
              "    </tr>\n",
              "    <tr>\n",
              "      <th>1</th>\n",
              "      <td>7</td>\n",
              "      <td>4</td>\n",
              "      <td>oct</td>\n",
              "      <td>tue</td>\n",
              "      <td>90.6</td>\n",
              "      <td>35.4</td>\n",
              "      <td>669.1</td>\n",
              "      <td>6.7</td>\n",
              "      <td>18.0</td>\n",
              "      <td>33</td>\n",
              "      <td>0.9</td>\n",
              "      <td>0.0</td>\n",
              "      <td>0.00</td>\n",
              "    </tr>\n",
              "    <tr>\n",
              "      <th>2</th>\n",
              "      <td>7</td>\n",
              "      <td>4</td>\n",
              "      <td>oct</td>\n",
              "      <td>sat</td>\n",
              "      <td>90.6</td>\n",
              "      <td>43.7</td>\n",
              "      <td>686.9</td>\n",
              "      <td>6.7</td>\n",
              "      <td>14.6</td>\n",
              "      <td>33</td>\n",
              "      <td>1.3</td>\n",
              "      <td>0.0</td>\n",
              "      <td>0.00</td>\n",
              "    </tr>\n",
              "    <tr>\n",
              "      <th>3</th>\n",
              "      <td>8</td>\n",
              "      <td>6</td>\n",
              "      <td>mar</td>\n",
              "      <td>fri</td>\n",
              "      <td>91.7</td>\n",
              "      <td>33.3</td>\n",
              "      <td>77.5</td>\n",
              "      <td>9.0</td>\n",
              "      <td>8.3</td>\n",
              "      <td>97</td>\n",
              "      <td>4.0</td>\n",
              "      <td>0.2</td>\n",
              "      <td>0.00</td>\n",
              "    </tr>\n",
              "    <tr>\n",
              "      <th>4</th>\n",
              "      <td>8</td>\n",
              "      <td>6</td>\n",
              "      <td>mar</td>\n",
              "      <td>sun</td>\n",
              "      <td>89.3</td>\n",
              "      <td>51.3</td>\n",
              "      <td>102.2</td>\n",
              "      <td>9.6</td>\n",
              "      <td>11.4</td>\n",
              "      <td>99</td>\n",
              "      <td>1.8</td>\n",
              "      <td>0.0</td>\n",
              "      <td>0.00</td>\n",
              "    </tr>\n",
              "    <tr>\n",
              "      <th>...</th>\n",
              "      <td>...</td>\n",
              "      <td>...</td>\n",
              "      <td>...</td>\n",
              "      <td>...</td>\n",
              "      <td>...</td>\n",
              "      <td>...</td>\n",
              "      <td>...</td>\n",
              "      <td>...</td>\n",
              "      <td>...</td>\n",
              "      <td>...</td>\n",
              "      <td>...</td>\n",
              "      <td>...</td>\n",
              "      <td>...</td>\n",
              "    </tr>\n",
              "    <tr>\n",
              "      <th>512</th>\n",
              "      <td>4</td>\n",
              "      <td>3</td>\n",
              "      <td>aug</td>\n",
              "      <td>sun</td>\n",
              "      <td>81.6</td>\n",
              "      <td>56.7</td>\n",
              "      <td>665.6</td>\n",
              "      <td>1.9</td>\n",
              "      <td>27.8</td>\n",
              "      <td>32</td>\n",
              "      <td>2.7</td>\n",
              "      <td>0.0</td>\n",
              "      <td>6.44</td>\n",
              "    </tr>\n",
              "    <tr>\n",
              "      <th>513</th>\n",
              "      <td>2</td>\n",
              "      <td>4</td>\n",
              "      <td>aug</td>\n",
              "      <td>sun</td>\n",
              "      <td>81.6</td>\n",
              "      <td>56.7</td>\n",
              "      <td>665.6</td>\n",
              "      <td>1.9</td>\n",
              "      <td>21.9</td>\n",
              "      <td>71</td>\n",
              "      <td>5.8</td>\n",
              "      <td>0.0</td>\n",
              "      <td>54.29</td>\n",
              "    </tr>\n",
              "    <tr>\n",
              "      <th>514</th>\n",
              "      <td>7</td>\n",
              "      <td>4</td>\n",
              "      <td>aug</td>\n",
              "      <td>sun</td>\n",
              "      <td>81.6</td>\n",
              "      <td>56.7</td>\n",
              "      <td>665.6</td>\n",
              "      <td>1.9</td>\n",
              "      <td>21.2</td>\n",
              "      <td>70</td>\n",
              "      <td>6.7</td>\n",
              "      <td>0.0</td>\n",
              "      <td>11.16</td>\n",
              "    </tr>\n",
              "    <tr>\n",
              "      <th>515</th>\n",
              "      <td>1</td>\n",
              "      <td>4</td>\n",
              "      <td>aug</td>\n",
              "      <td>sat</td>\n",
              "      <td>94.4</td>\n",
              "      <td>146.0</td>\n",
              "      <td>614.7</td>\n",
              "      <td>11.3</td>\n",
              "      <td>25.6</td>\n",
              "      <td>42</td>\n",
              "      <td>4.0</td>\n",
              "      <td>0.0</td>\n",
              "      <td>0.00</td>\n",
              "    </tr>\n",
              "    <tr>\n",
              "      <th>516</th>\n",
              "      <td>6</td>\n",
              "      <td>3</td>\n",
              "      <td>nov</td>\n",
              "      <td>tue</td>\n",
              "      <td>79.5</td>\n",
              "      <td>3.0</td>\n",
              "      <td>106.7</td>\n",
              "      <td>1.1</td>\n",
              "      <td>11.8</td>\n",
              "      <td>31</td>\n",
              "      <td>4.5</td>\n",
              "      <td>0.0</td>\n",
              "      <td>0.00</td>\n",
              "    </tr>\n",
              "  </tbody>\n",
              "</table>\n",
              "<p>517 rows × 13 columns</p>\n",
              "</div>"
            ],
            "text/plain": [
              "     X  Y month  day  FFMC    DMC     DC   ISI  temp  RH  wind  rain   area\n",
              "0    7  5   mar  fri  86.2   26.2   94.3   5.1   8.2  51   6.7   0.0   0.00\n",
              "1    7  4   oct  tue  90.6   35.4  669.1   6.7  18.0  33   0.9   0.0   0.00\n",
              "2    7  4   oct  sat  90.6   43.7  686.9   6.7  14.6  33   1.3   0.0   0.00\n",
              "3    8  6   mar  fri  91.7   33.3   77.5   9.0   8.3  97   4.0   0.2   0.00\n",
              "4    8  6   mar  sun  89.3   51.3  102.2   9.6  11.4  99   1.8   0.0   0.00\n",
              "..  .. ..   ...  ...   ...    ...    ...   ...   ...  ..   ...   ...    ...\n",
              "512  4  3   aug  sun  81.6   56.7  665.6   1.9  27.8  32   2.7   0.0   6.44\n",
              "513  2  4   aug  sun  81.6   56.7  665.6   1.9  21.9  71   5.8   0.0  54.29\n",
              "514  7  4   aug  sun  81.6   56.7  665.6   1.9  21.2  70   6.7   0.0  11.16\n",
              "515  1  4   aug  sat  94.4  146.0  614.7  11.3  25.6  42   4.0   0.0   0.00\n",
              "516  6  3   nov  tue  79.5    3.0  106.7   1.1  11.8  31   4.5   0.0   0.00\n",
              "\n",
              "[517 rows x 13 columns]"
            ]
          },
          "metadata": {
            "tags": []
          },
          "execution_count": 3
        }
      ]
    },
    {
      "cell_type": "code",
      "metadata": {
        "id": "tCUdQh4zXdxG",
        "colab_type": "code",
        "colab": {
          "base_uri": "https://localhost:8080/",
          "height": 282
        },
        "outputId": "807b9416-5c41-4ab8-a627-c7939b500de3"
      },
      "source": [
        "plt.plot(df['area'])"
      ],
      "execution_count": null,
      "outputs": [
        {
          "output_type": "execute_result",
          "data": {
            "text/plain": [
              "[<matplotlib.lines.Line2D at 0x7f8858618ba8>]"
            ]
          },
          "metadata": {
            "tags": []
          },
          "execution_count": 4
        },
        {
          "output_type": "display_data",
          "data": {
            "image/png": "[encoded data removed]",
            "text/plain": [
              "<Figure size 432x288 with 1 Axes>"
            ]
          },
          "metadata": {
            "tags": [],
            "needs_background": "light"
          }
        }
      ]
    },
    {
      "cell_type": "code",
      "metadata": {
        "id": "9x8PVcWiYz_W",
        "colab_type": "code",
        "colab": {
          "base_uri": "https://localhost:8080/",
          "height": 284
        },
        "outputId": "54d883e7-a5a2-4287-9207-4390fc6efcc5"
      },
      "source": [
        "df.describe()"
      ],
      "execution_count": null,
      "outputs": [
        {
          "output_type": "execute_result",
          "data": {
            "text/html": [
              "<div>\n",
              "<style scoped>\n",
              "    .dataframe tbody tr th:only-of-type {\n",
              "        vertical-align: middle;\n",
              "    }\n",
              "\n",
              "    .dataframe tbody tr th {\n",
              "        vertical-align: top;\n",
              "    }\n",
              "\n",
              "    .dataframe thead th {\n",
              "        text-align: right;\n",
              "    }\n",
              "</style>\n",
              "<table border=\"1\" class=\"dataframe\">\n",
              "  <thead>\n",
              "    <tr style=\"text-align: right;\">\n",
              "      <th></th>\n",
              "      <th>X</th>\n",
              "      <th>Y</th>\n",
              "      <th>FFMC</th>\n",
              "      <th>DMC</th>\n",
              "      <th>DC</th>\n",
              "      <th>ISI</th>\n",
              "      <th>temp</th>\n",
              "      <th>RH</th>\n",
              "      <th>wind</th>\n",
              "      <th>rain</th>\n",
              "      <th>area</th>\n",
              "    </tr>\n",
              "  </thead>\n",
              "  <tbody>\n",
              "    <tr>\n",
              "      <th>count</th>\n",
              "      <td>517.000000</td>\n",
              "      <td>517.000000</td>\n",
              "      <td>517.000000</td>\n",
              "      <td>517.000000</td>\n",
              "      <td>517.000000</td>\n",
              "      <td>517.000000</td>\n",
              "      <td>517.000000</td>\n",
              "      <td>517.000000</td>\n",
              "      <td>517.000000</td>\n",
              "      <td>517.000000</td>\n",
              "      <td>517.000000</td>\n",
              "    </tr>\n",
              "    <tr>\n",
              "      <th>mean</th>\n",
              "      <td>4.669246</td>\n",
              "      <td>4.299807</td>\n",
              "      <td>90.644681</td>\n",
              "      <td>110.872340</td>\n",
              "      <td>547.940039</td>\n",
              "      <td>9.021663</td>\n",
              "      <td>18.889168</td>\n",
              "      <td>44.288201</td>\n",
              "      <td>4.017602</td>\n",
              "      <td>0.021663</td>\n",
              "      <td>12.847292</td>\n",
              "    </tr>\n",
              "    <tr>\n",
              "      <th>std</th>\n",
              "      <td>2.313778</td>\n",
              "      <td>1.229900</td>\n",
              "      <td>5.520111</td>\n",
              "      <td>64.046482</td>\n",
              "      <td>248.066192</td>\n",
              "      <td>4.559477</td>\n",
              "      <td>5.806625</td>\n",
              "      <td>16.317469</td>\n",
              "      <td>1.791653</td>\n",
              "      <td>0.295959</td>\n",
              "      <td>63.655818</td>\n",
              "    </tr>\n",
              "    <tr>\n",
              "      <th>min</th>\n",
              "      <td>1.000000</td>\n",
              "      <td>2.000000</td>\n",
              "      <td>18.700000</td>\n",
              "      <td>1.100000</td>\n",
              "      <td>7.900000</td>\n",
              "      <td>0.000000</td>\n",
              "      <td>2.200000</td>\n",
              "      <td>15.000000</td>\n",
              "      <td>0.400000</td>\n",
              "      <td>0.000000</td>\n",
              "      <td>0.000000</td>\n",
              "    </tr>\n",
              "    <tr>\n",
              "      <th>25%</th>\n",
              "      <td>3.000000</td>\n",
              "      <td>4.000000</td>\n",
              "      <td>90.200000</td>\n",
              "      <td>68.600000</td>\n",
              "      <td>437.700000</td>\n",
              "      <td>6.500000</td>\n",
              "      <td>15.500000</td>\n",
              "      <td>33.000000</td>\n",
              "      <td>2.700000</td>\n",
              "      <td>0.000000</td>\n",
              "      <td>0.000000</td>\n",
              "    </tr>\n",
              "    <tr>\n",
              "      <th>50%</th>\n",
              "      <td>4.000000</td>\n",
              "      <td>4.000000</td>\n",
              "      <td>91.600000</td>\n",
              "      <td>108.300000</td>\n",
              "      <td>664.200000</td>\n",
              "      <td>8.400000</td>\n",
              "      <td>19.300000</td>\n",
              "      <td>42.000000</td>\n",
              "      <td>4.000000</td>\n",
              "      <td>0.000000</td>\n",
              "      <td>0.520000</td>\n",
              "    </tr>\n",
              "    <tr>\n",
              "      <th>75%</th>\n",
              "      <td>7.000000</td>\n",
              "      <td>5.000000</td>\n",
              "      <td>92.900000</td>\n",
              "      <td>142.400000</td>\n",
              "      <td>713.900000</td>\n",
              "      <td>10.800000</td>\n",
              "      <td>22.800000</td>\n",
              "      <td>53.000000</td>\n",
              "      <td>4.900000</td>\n",
              "      <td>0.000000</td>\n",
              "      <td>6.570000</td>\n",
              "    </tr>\n",
              "    <tr>\n",
              "      <th>max</th>\n",
              "      <td>9.000000</td>\n",
              "      <td>9.000000</td>\n",
              "      <td>96.200000</td>\n",
              "      <td>291.300000</td>\n",
              "      <td>860.600000</td>\n",
              "      <td>56.100000</td>\n",
              "      <td>33.300000</td>\n",
              "      <td>100.000000</td>\n",
              "      <td>9.400000</td>\n",
              "      <td>6.400000</td>\n",
              "      <td>1090.840000</td>\n",
              "    </tr>\n",
              "  </tbody>\n",
              "</table>\n",
              "</div>"
            ],
            "text/plain": [
              "                X           Y        FFMC  ...        wind        rain         area\n",
              "count  517.000000  517.000000  517.000000  ...  517.000000  517.000000   517.000000\n",
              "mean     4.669246    4.299807   90.644681  ...    4.017602    0.021663    12.847292\n",
              "std      2.313778    1.229900    5.520111  ...    1.791653    0.295959    63.655818\n",
              "min      1.000000    2.000000   18.700000  ...    0.400000    0.000000     0.000000\n",
              "25%      3.000000    4.000000   90.200000  ...    2.700000    0.000000     0.000000\n",
              "50%      4.000000    4.000000   91.600000  ...    4.000000    0.000000     0.520000\n",
              "75%      7.000000    5.000000   92.900000  ...    4.900000    0.000000     6.570000\n",
              "max      9.000000    9.000000   96.200000  ...    9.400000    6.400000  1090.840000\n",
              "\n",
              "[8 rows x 11 columns]"
            ]
          },
          "metadata": {
            "tags": []
          },
          "execution_count": 5
        }
      ]
    },
    {
      "cell_type": "markdown",
      "metadata": {
        "id": "9tkEtwFHJuEF",
        "colab_type": "text"
      },
      "source": [
        "We remove the X and Y columns of our dataset. Those values are used to declare which part of the naturalpark the forestfire occured as coordinates.(X,Y)\n",
        "We will remove FWI values too.\n",
        "The reason we are using those is to achieve a model to be used on general scale.\n"
      ]
    },
    {
      "cell_type": "code",
      "metadata": {
        "id": "V_lE0PqMCzAz",
        "colab_type": "code",
        "colab": {}
      },
      "source": [
        "df2 = df.drop(['X', 'Y','FFMC','DMC','DC','ISI','month','day'], axis = 1) "
      ],
      "execution_count": null,
      "outputs": []
    },
    {
      "cell_type": "markdown",
      "metadata": {
        "id": "UquYhK8XAVOU",
        "colab_type": "text"
      },
      "source": [
        "We cannot use the month and day values because they are categorical and using them in regression would be stating a relation such as tuesday = 2*monday."
      ]
    },
    {
      "cell_type": "markdown",
      "metadata": {
        "id": "bLu8zO5tBzl6",
        "colab_type": "text"
      },
      "source": [
        "Our dataset will look like this."
      ]
    },
    {
      "cell_type": "code",
      "metadata": {
        "id": "3bEUOQ1L7xDj",
        "colab_type": "code",
        "colab": {
          "base_uri": "https://localhost:8080/",
          "height": 402
        },
        "outputId": "1101169c-1fa7-450b-eafe-7a7b0633b6ea"
      },
      "source": [
        "df2"
      ],
      "execution_count": null,
      "outputs": [
        {
          "output_type": "execute_result",
          "data": {
            "text/html": [
              "<div>\n",
              "<style scoped>\n",
              "    .dataframe tbody tr th:only-of-type {\n",
              "        vertical-align: middle;\n",
              "    }\n",
              "\n",
              "    .dataframe tbody tr th {\n",
              "        vertical-align: top;\n",
              "    }\n",
              "\n",
              "    .dataframe thead th {\n",
              "        text-align: right;\n",
              "    }\n",
              "</style>\n",
              "<table border=\"1\" class=\"dataframe\">\n",
              "  <thead>\n",
              "    <tr style=\"text-align: right;\">\n",
              "      <th></th>\n",
              "      <th>temp</th>\n",
              "      <th>RH</th>\n",
              "      <th>wind</th>\n",
              "      <th>rain</th>\n",
              "      <th>area</th>\n",
              "    </tr>\n",
              "  </thead>\n",
              "  <tbody>\n",
              "    <tr>\n",
              "      <th>0</th>\n",
              "      <td>8.2</td>\n",
              "      <td>51</td>\n",
              "      <td>6.7</td>\n",
              "      <td>0.0</td>\n",
              "      <td>0.00</td>\n",
              "    </tr>\n",
              "    <tr>\n",
              "      <th>1</th>\n",
              "      <td>18.0</td>\n",
              "      <td>33</td>\n",
              "      <td>0.9</td>\n",
              "      <td>0.0</td>\n",
              "      <td>0.00</td>\n",
              "    </tr>\n",
              "    <tr>\n",
              "      <th>2</th>\n",
              "      <td>14.6</td>\n",
              "      <td>33</td>\n",
              "      <td>1.3</td>\n",
              "      <td>0.0</td>\n",
              "      <td>0.00</td>\n",
              "    </tr>\n",
              "    <tr>\n",
              "      <th>3</th>\n",
              "      <td>8.3</td>\n",
              "      <td>97</td>\n",
              "      <td>4.0</td>\n",
              "      <td>0.2</td>\n",
              "      <td>0.00</td>\n",
              "    </tr>\n",
              "    <tr>\n",
              "      <th>4</th>\n",
              "      <td>11.4</td>\n",
              "      <td>99</td>\n",
              "      <td>1.8</td>\n",
              "      <td>0.0</td>\n",
              "      <td>0.00</td>\n",
              "    </tr>\n",
              "    <tr>\n",
              "      <th>...</th>\n",
              "      <td>...</td>\n",
              "      <td>...</td>\n",
              "      <td>...</td>\n",
              "      <td>...</td>\n",
              "      <td>...</td>\n",
              "    </tr>\n",
              "    <tr>\n",
              "      <th>512</th>\n",
              "      <td>27.8</td>\n",
              "      <td>32</td>\n",
              "      <td>2.7</td>\n",
              "      <td>0.0</td>\n",
              "      <td>6.44</td>\n",
              "    </tr>\n",
              "    <tr>\n",
              "      <th>513</th>\n",
              "      <td>21.9</td>\n",
              "      <td>71</td>\n",
              "      <td>5.8</td>\n",
              "      <td>0.0</td>\n",
              "      <td>54.29</td>\n",
              "    </tr>\n",
              "    <tr>\n",
              "      <th>514</th>\n",
              "      <td>21.2</td>\n",
              "      <td>70</td>\n",
              "      <td>6.7</td>\n",
              "      <td>0.0</td>\n",
              "      <td>11.16</td>\n",
              "    </tr>\n",
              "    <tr>\n",
              "      <th>515</th>\n",
              "      <td>25.6</td>\n",
              "      <td>42</td>\n",
              "      <td>4.0</td>\n",
              "      <td>0.0</td>\n",
              "      <td>0.00</td>\n",
              "    </tr>\n",
              "    <tr>\n",
              "      <th>516</th>\n",
              "      <td>11.8</td>\n",
              "      <td>31</td>\n",
              "      <td>4.5</td>\n",
              "      <td>0.0</td>\n",
              "      <td>0.00</td>\n",
              "    </tr>\n",
              "  </tbody>\n",
              "</table>\n",
              "<p>517 rows × 5 columns</p>\n",
              "</div>"
            ],
            "text/plain": [
              "     temp  RH  wind  rain   area\n",
              "0     8.2  51   6.7   0.0   0.00\n",
              "1    18.0  33   0.9   0.0   0.00\n",
              "2    14.6  33   1.3   0.0   0.00\n",
              "3     8.3  97   4.0   0.2   0.00\n",
              "4    11.4  99   1.8   0.0   0.00\n",
              "..    ...  ..   ...   ...    ...\n",
              "512  27.8  32   2.7   0.0   6.44\n",
              "513  21.9  71   5.8   0.0  54.29\n",
              "514  21.2  70   6.7   0.0  11.16\n",
              "515  25.6  42   4.0   0.0   0.00\n",
              "516  11.8  31   4.5   0.0   0.00\n",
              "\n",
              "[517 rows x 5 columns]"
            ]
          },
          "metadata": {
            "tags": []
          },
          "execution_count": 7
        }
      ]
    },
    {
      "cell_type": "markdown",
      "metadata": {
        "id": "YzkQmmUHByQH",
        "colab_type": "text"
      },
      "source": [
        "We will use the area value as Y(target) value."
      ]
    },
    {
      "cell_type": "code",
      "metadata": {
        "id": "rIQ4PlRL_orD",
        "colab_type": "code",
        "colab": {}
      },
      "source": [
        "X = df2.drop(columns=['area'])\n",
        "y = df2['area']"
      ],
      "execution_count": null,
      "outputs": []
    },
    {
      "cell_type": "markdown",
      "metadata": {
        "id": "K4jVhuYdCCl3",
        "colab_type": "text"
      },
      "source": [
        "We have splitted the data as %20 train and %80 test."
      ]
    },
    {
      "cell_type": "code",
      "metadata": {
        "id": "-oYI6yEe_qwi",
        "colab_type": "code",
        "colab": {}
      },
      "source": [
        "from sklearn.model_selection import train_test_split\n",
        "X_train, X_test, y_train, y_test = train_test_split(X, y, test_size=0.2, random_state=0)\n"
      ],
      "execution_count": null,
      "outputs": []
    },
    {
      "cell_type": "markdown",
      "metadata": {
        "id": "B4CIsALXCm_a",
        "colab_type": "text"
      },
      "source": [
        "We will fit our model with Least Squares Linear Regression."
      ]
    },
    {
      "cell_type": "code",
      "metadata": {
        "id": "UOhrd9nbDhnZ",
        "colab_type": "code",
        "colab": {
          "base_uri": "https://localhost:8080/",
          "height": 34
        },
        "outputId": "0eb334cf-701a-491a-d4ec-5dca25298201"
      },
      "source": [
        "regressor = LinearRegression() \n",
        "regressor.fit(X_train, y_train)"
      ],
      "execution_count": null,
      "outputs": [
        {
          "output_type": "execute_result",
          "data": {
            "text/plain": [
              "LinearRegression(copy_X=True, fit_intercept=True, n_jobs=None, normalize=False)"
            ]
          },
          "metadata": {
            "tags": []
          },
          "execution_count": 10
        }
      ]
    },
    {
      "cell_type": "markdown",
      "metadata": {
        "id": "gU8eobrOGqKi",
        "colab_type": "text"
      },
      "source": [
        "To check the accuracy of our model we will use MSE."
      ]
    },
    {
      "cell_type": "code",
      "metadata": {
        "id": "EKGMXYCnDzWO",
        "colab_type": "code",
        "colab": {
          "base_uri": "https://localhost:8080/",
          "height": 34
        },
        "outputId": "520caeec-1dce-463d-d523-f5354826bfb5"
      },
      "source": [
        "y_pred = regressor.predict(X_test)\n",
        "print('Mean Absolute Error:', metrics.mean_absolute_error(y_test, y_pred))  "
      ],
      "execution_count": null,
      "outputs": [
        {
          "output_type": "stream",
          "text": [
            "Mean Absolute Error: 25.884922040576985\n"
          ],
          "name": "stdout"
        }
      ]
    },
    {
      "cell_type": "markdown",
      "metadata": {
        "id": "rG7qnideFi3R",
        "colab_type": "text"
      },
      "source": [
        "\n",
        "Let's use Ridge Linear Regression.Learning rate as 0.01 is from trial and error."
      ]
    },
    {
      "cell_type": "code",
      "metadata": {
        "id": "lcGob1yUMCzl",
        "colab_type": "code",
        "colab": {
          "base_uri": "https://localhost:8080/",
          "height": 50
        },
        "outputId": "a6a30fce-593f-4462-99f4-09b501958cf4"
      },
      "source": [
        "ridge_regressor = Ridge(alpha=0.01, fit_intercept=True, normalize=True, copy_X=True, max_iter=10000, tol=0.000001, solver='sag', random_state=None)\n",
        "ridge_regressor.fit(X_train, y_train)"
      ],
      "execution_count": null,
      "outputs": [
        {
          "output_type": "execute_result",
          "data": {
            "text/plain": [
              "Ridge(alpha=0.01, copy_X=True, fit_intercept=True, max_iter=10000,\n",
              "      normalize=True, random_state=None, solver='sag', tol=1e-06)"
            ]
          },
          "metadata": {
            "tags": []
          },
          "execution_count": 12
        }
      ]
    },
    {
      "cell_type": "code",
      "metadata": {
        "id": "2ejzGfRMMXQd",
        "colab_type": "code",
        "colab": {}
      },
      "source": [
        "y_ridge_pred = ridge_regressor.predict(X_test)"
      ],
      "execution_count": null,
      "outputs": []
    },
    {
      "cell_type": "code",
      "metadata": {
        "id": "cI4JknsdWVjL",
        "colab_type": "code",
        "colab": {
          "base_uri": "https://localhost:8080/",
          "height": 34
        },
        "outputId": "78e41381-09c9-48b6-d6f3-913eafaaa454"
      },
      "source": [
        "print('Mean Absolute Error:', metrics.mean_absolute_error(y_test, y_ridge_pred))  "
      ],
      "execution_count": null,
      "outputs": [
        {
          "output_type": "stream",
          "text": [
            "Mean Absolute Error: 25.881022258581297\n"
          ],
          "name": "stdout"
        }
      ]
    },
    {
      "cell_type": "markdown",
      "metadata": {
        "id": "Kv-pTOuqI5sc",
        "colab_type": "text"
      },
      "source": [
        "Let's check the accuracy for Lasso Linear Regression."
      ]
    },
    {
      "cell_type": "code",
      "metadata": {
        "id": "dQo9cbqeJCWt",
        "colab_type": "code",
        "colab": {
          "base_uri": "https://localhost:8080/",
          "height": 67
        },
        "outputId": "c91ffdb1-0fdf-4cda-9266-2faa7bd9f84d"
      },
      "source": [
        "lasso_regressor =  Lasso(alpha=0.1, fit_intercept=True, normalize=False, precompute=False, copy_X=True, warm_start=False, positive=False, random_state=None, selection='cyclic')\n",
        "lasso_regressor.fit(X_train, y_train)"
      ],
      "execution_count": null,
      "outputs": [
        {
          "output_type": "execute_result",
          "data": {
            "text/plain": [
              "Lasso(alpha=0.1, copy_X=True, fit_intercept=True, max_iter=1000,\n",
              "      normalize=False, positive=False, precompute=False, random_state=None,\n",
              "      selection='cyclic', tol=0.0001, warm_start=False)"
            ]
          },
          "metadata": {
            "tags": []
          },
          "execution_count": 15
        }
      ]
    },
    {
      "cell_type": "code",
      "metadata": {
        "id": "a8Q4HW_AIABP",
        "colab_type": "code",
        "colab": {
          "base_uri": "https://localhost:8080/",
          "height": 34
        },
        "outputId": "05de1ba2-f2ad-4ad7-f43e-27d225951505"
      },
      "source": [
        "y_lasso_pred = lasso_regressor.predict(X_test)\n",
        "print('Mean Absolute Error:', metrics.mean_absolute_error(y_test, y_lasso_pred))  "
      ],
      "execution_count": null,
      "outputs": [
        {
          "output_type": "stream",
          "text": [
            "Mean Absolute Error: 25.88306534228093\n"
          ],
          "name": "stdout"
        }
      ]
    },
    {
      "cell_type": "markdown",
      "metadata": {
        "id": "wTBUlsHvQpJf",
        "colab_type": "text"
      },
      "source": [
        "Let's check the knn regression too."
      ]
    },
    {
      "cell_type": "code",
      "metadata": {
        "id": "oFTXERoNP1nB",
        "colab_type": "code",
        "colab": {
          "base_uri": "https://localhost:8080/",
          "height": 67
        },
        "outputId": "7e86294b-5f57-4d7a-aac1-9ffc0c0fc933"
      },
      "source": [
        "from sklearn.neighbors import KNeighborsRegressor\n",
        "\n",
        "knn_regressor = KNeighborsRegressor(n_neighbors=5, weights='uniform', algorithm='auto', leaf_size=30, p=2, metric='minkowski', metric_params=None, n_jobs=None)\n",
        "knn_regressor.fit(X_train,y_train)"
      ],
      "execution_count": null,
      "outputs": [
        {
          "output_type": "execute_result",
          "data": {
            "text/plain": [
              "KNeighborsRegressor(algorithm='auto', leaf_size=30, metric='minkowski',\n",
              "                    metric_params=None, n_jobs=None, n_neighbors=5, p=2,\n",
              "                    weights='uniform')"
            ]
          },
          "metadata": {
            "tags": []
          },
          "execution_count": 17
        }
      ]
    },
    {
      "cell_type": "code",
      "metadata": {
        "id": "pziTzAbHP1yX",
        "colab_type": "code",
        "colab": {
          "base_uri": "https://localhost:8080/",
          "height": 34
        },
        "outputId": "43c4578d-7da7-46ff-e7ab-cd4219ed4b08"
      },
      "source": [
        "kneigh_pred = knn_regressor.predict(X_test)\n",
        "print('Mean Absolute Error:', metrics.mean_absolute_error(y_test, kneigh_pred))  "
      ],
      "execution_count": null,
      "outputs": [
        {
          "output_type": "stream",
          "text": [
            "Mean Absolute Error: 26.909384615384617\n"
          ],
          "name": "stdout"
        }
      ]
    },
    {
      "cell_type": "markdown",
      "metadata": {
        "id": "--3yelkb779I",
        "colab_type": "text"
      },
      "source": [
        "Created the residual plot to check linearity.\n"
      ]
    },
    {
      "cell_type": "code",
      "metadata": {
        "id": "hZ7QDK5_MxnJ",
        "colab_type": "code",
        "colab": {}
      },
      "source": [
        "residuals = []\n",
        "for i in range(len(y_ridge_pred)):\n",
        "  residuals.append(y_test.values[i] - y_ridge_pred[i])"
      ],
      "execution_count": null,
      "outputs": []
    },
    {
      "cell_type": "code",
      "metadata": {
        "id": "qwI1OJHHPAKO",
        "colab_type": "code",
        "colab": {
          "base_uri": "https://localhost:8080/",
          "height": 265
        },
        "outputId": "95774f2d-067c-4c48-a656-e06f1491067b"
      },
      "source": [
        "sns.residplot(x=y_ridge_pred , y=residuals , data='auto', color='green')\n",
        "\n",
        "# Display the plot\n",
        "plt.show()\n"
      ],
      "execution_count": null,
      "outputs": [
        {
          "output_type": "display_data",
          "data": {
            "image/png": "[encoded data removed]",
            "text/plain": [
              "<Figure size 432x288 with 1 Axes>"
            ]
          },
          "metadata": {
            "tags": [],
            "needs_background": "light"
          }
        }
      ]
    },
    {
      "cell_type": "markdown",
      "metadata": {
        "id": "ePZpJSAIRYd2",
        "colab_type": "text"
      },
      "source": [
        "To check the predictions of the models ,\n",
        "You can enter the inputs for todays and check the values.\n",
        "inputs : \n",
        "RH - relative humidity in %: 15.0 to 100\n",
        "wind - wind speed in km/h: 0.40 to 9.40\n",
        "rain - outside rain in mm/m2 : 0.0 to 6.4\n",
        "area - the burned area of the forest (in ha): 0.00 to 1090.84 \n",
        "\n",
        "From the runtime section above press run-all button.\n",
        "\n",
        "Some clarification about the output values:\n",
        "\n",
        "-Data is somewhat linear which means that KNN Regression will not provide a great answer.\n",
        "-Lasso Regression gets the absolute value of each weight which adds tendency to output bigger values."
      ]
    },
    {
      "cell_type": "code",
      "metadata": {
        "id": "g08v_xtzPQLh",
        "colab_type": "code",
        "cellView": "form",
        "colab": {
          "base_uri": "https://localhost:8080/",
          "height": 84
        },
        "outputId": "479d2a37-1455-4dd5-b098-7f32c4296165"
      },
      "source": [
        " \n",
        " \n",
        "#@title Regression Predictions for Burned Area of Forest in a Forest Fire \n",
        " \n",
        "Celcius_Temperature = 1000.0 #@param {type:\"number\"}\n",
        "Relative_Humidity = 60.0 #@param {type:\"number\"}\n",
        "Wind = 10.0 #@param {type:\"number\"}\n",
        "Rain =  0#@param {type:\"number\"}\n",
        " \n",
        "value_array = [Celcius_Temperature,Relative_Humidity,Wind,Rain]\n",
        "value_array = np.array(value_array).reshape(1,-1)\n",
        "\n",
        "\n",
        "area_burned = regressor.predict(value_array)\n",
        "if (area_burned < 0 ):\n",
        "  area_burned = 0\n",
        "\n",
        "\n",
        "area_burned_ridge = ridge_regressor.predict(value_array)\n",
        "if (area_burned_ridge < 0 ):\n",
        "  area_burned_ridge = 0\n",
        "\n",
        "\n",
        "area_burned_lasso = lasso_regressor.predict(value_array)\n",
        "if (area_burned_lasso < 0 ):\n",
        "  area_burned_lasso = 0\n",
        "\n",
        "\n",
        "area_knn_regressor = knn_regressor.predict(value_array)\n",
        "if (area_knn_regressor < 0 ):\n",
        "  area_knn_regressor = 0\n",
        " \n",
        " \n",
        " \n",
        "print(\"Predicted value for burned area is (According to machine learning model trained with :Ordinary least squares linear regression) : \",area_burned)\n",
        "print(\"Predicted value for burned area is (According to machine learning model trained with :Ridge linear regression) : \",area_burned_ridge)\n",
        "print(\"Predicted value for burned area is (According to machine learning model trained with :Lasso linear regression) : \",area_burned_lasso)\n",
        "print(\"Predicted value for burned area is (According to machine learning model trained with :KNN regression) : \",area_knn_regressor)"
      ],
      "execution_count": null,
      "outputs": [
        {
          "output_type": "stream",
          "text": [
            "Predicted value for burned area is (According to machine learning model trained with :Ordinary least squares linear regression) :  [721.21232114]\n",
            "Predicted value for burned area is (According to machine learning model trained with :Ridge linear regression) :  [710.00565651]\n",
            "Predicted value for burned area is (According to machine learning model trained with :Lasso linear regression) :  [702.8538679]\n",
            "Predicted value for burned area is (According to machine learning model trained with :KNN regression) :  [8.776]\n"
          ],
          "name": "stdout"
        }
      ]
    },
    {
      "cell_type": "code",
      "metadata": {
        "id": "K84oGIO5PQs1",
        "colab_type": "code",
        "colab": {}
      },
      "source": [
        ""
      ],
      "execution_count": null,
      "outputs": []
    },
    {
      "cell_type": "markdown",
      "metadata": {
        "id": "HpuI-2o3iVB7",
        "colab_type": "text"
      },
      "source": [
        "Let's create similar models for FWI values"
      ]
    }
  ]
}